{
 "cells": [
  {
   "cell_type": "markdown",
   "metadata": {},
   "source": [
    "# Gradient boosting trees trained on EVmutation scores"
   ]
  },
  {
   "cell_type": "markdown",
   "metadata": {},
   "source": [
    "## Setup\n",
    "\n",
    "* Data: First-principle evolutionary statistical energy function on human proteins using the 'epistatic' model returned by the EVmutation method.\n",
    "* Feature vector: each variant is represented by 5 features; after one-hot encoding we have 20 + 20 + 4 + 6 + 4 + 3 + 1 = **58 features** - \n",
    "  + **WT Amino acid** (20 levels)\n",
    "  + **MUT Amino Acid** (20 levels)\n",
    "  + **trinucleotide context** (96 levels) (*separate one-hot encoding for positions -1 [4 features], 0 [6 features], +1 [4 features]*)\n",
    "  + phyloP **conservation score** [separately for positions -1, 0, 1] [*3 features*]\n",
    "  + **Q(SASA)** of the mutated position\n",
    "* Objective: A classificaation task to predict whether EVmutation score < -5 (damaging) or otherwise (neutral). See the NN notebook."
   ]
  },
  {
   "cell_type": "code",
   "execution_count": 1,
   "metadata": {},
   "outputs": [],
   "source": [
    "import os\n",
    "import glob\n",
    "import re\n",
    "import random\n",
    "import pickle\n",
    "import numpy as np\n",
    "import pandas as pd\n",
    "import sklearn\n",
    "import imblearn\n",
    "import time\n",
    "import shap"
   ]
  },
  {
   "cell_type": "code",
   "execution_count": 2,
   "metadata": {},
   "outputs": [],
   "source": [
    "# load the prepared dataset\n",
    "with open('EVmutation_human_protein_predictions_collapsed_annotated.pickle', 'rb') as r:\n",
    "    X, Y = pickle.load(r)"
   ]
  },
  {
   "cell_type": "markdown",
   "metadata": {},
   "source": [
    "## Idea\n",
    "\n",
    "Use -5 as the cutoff, below which variants are labelled 'damaging' (label '1') and neutral '0' otherwise. This is determined by inspection of [Figure 3](https://www.nature.com/articles/nbt.3769/figures/3) of the original EVmutation paper - the cutoff is a sensible chocie which segregates common gnomAD variants from pathogenic ClinVar variants. The actual median of the EVmutation metrics is -4.722 - not far off from -5.\n",
    "\n",
    "For training, Similar to the DMSexp data, but put aside 1% of data as test set (many variants - not to 'waste' observations in the test.)"
   ]
  },
  {
   "cell_type": "code",
   "execution_count": 3,
   "metadata": {},
   "outputs": [],
   "source": [
    "# label '1' if Y < -5 and '0' otherwise\n",
    "Y = np.array(Y < -5, dtype=int)"
   ]
  },
  {
   "cell_type": "code",
   "execution_count": 4,
   "metadata": {},
   "outputs": [],
   "source": [
    "def sample_fixed_set(X_set, Y_set, seed = 1, proportion = 0.2):\n",
    "    \"\"\"\n",
    "    Give a randomly sampled (the size given by proportion) set with identical distribution \n",
    "    separately from each DMS dataset.\n",
    "    Input:\n",
    "      - X_set: np.array of shape (n_samples, n_features) The feature matrix.\n",
    "      - Y_set: np.array of shape (n_samples, 1). The labels.\n",
    "    Return:\n",
    "      a list of row IDs which satisfy the condition (i.e. proportion * m variants are retained\n",
    "      and m is the number of variants in each DMS dataset)\n",
    "    \"\"\"\n",
    "    random.seed(seed) # set seed\n",
    "    n_samples = X_set.shape[0]\n",
    "    id_vec = range(n_samples)\n",
    "    id_keep = []  # row IDs of the obs to keep\n",
    "    m_s = int(np.floor( proportion * n_samples ))\n",
    "    id_keep = random.sample(id_vec, m_s)\n",
    "    return id_keep\n"
   ]
  },
  {
   "cell_type": "code",
   "execution_count": 5,
   "metadata": {},
   "outputs": [],
   "source": [
    "# set aside 1% as test set.\n",
    "test_set_id = sample_fixed_set(X, Y, proportion = 0.01, seed = 1234)\n",
    "train_set_id = list(set(range(X.shape[0])) - set(test_set_id))\n",
    "\n",
    "X_test = X[test_set_id, :]\n",
    "Y_test = Y[test_set_id, :]\n",
    "X_train = X[train_set_id, :]\n",
    "Y_train = Y[train_set_id, :]\n",
    "\n",
    "# save the whole train set\n",
    "with open('human_protein_predictions/EVmutation_train_set.pickle', 'wb') as f:\n",
    "    pickle.dump((X_train, Y_train), f)\n",
    "    \n",
    "# save the test set and forget about it for now\n",
    "with open('human_protein_predictions/EVmutation_test_set.pickle', 'wb') as f:\n",
    "    pickle.dump((X_test, Y_test), f)"
   ]
  },
  {
   "cell_type": "markdown",
   "metadata": {},
   "source": [
    "## Architecture\n",
    "\n",
    "using GradientBoostingClassifier in scikit-learn. Use the same set of hyperparameters in the DMSexp prediction task."
   ]
  },
  {
   "cell_type": "code",
   "execution_count": 6,
   "metadata": {},
   "outputs": [],
   "source": [
    "with open('data/EVmutation_train_set.pickle', 'rb') as r:\n",
    "    X, Y = pickle.load(r)"
   ]
  },
  {
   "cell_type": "code",
   "execution_count": 7,
   "metadata": {},
   "outputs": [],
   "source": [
    "from sklearn.ensemble import GradientBoostingClassifier"
   ]
  },
  {
   "cell_type": "code",
   "execution_count": 8,
   "metadata": {},
   "outputs": [
    {
     "name": "stderr",
     "output_type": "stream",
     "text": [
      "/home/josephn/.local/lib/python3.6/site-packages/sklearn/utils/validation.py:63: DataConversionWarning: A column-vector y was passed when a 1d array was expected. Please change the shape of y to (n_samples, ), for example using ravel().\n",
      "  return f(*args, **kwargs)\n"
     ]
    },
    {
     "name": "stdout",
     "output_type": "stream",
     "text": [
      "      Iter       Train Loss      OOB Improve   Remaining Time \n",
      "         1           1.3498           0.0286          371.09m\n",
      "         2           1.3263           0.0235          370.60m\n",
      "         3           1.3058           0.0204          370.33m\n",
      "         4           1.2880           0.0177          366.39m\n",
      "         5           1.2738           0.0144          364.26m\n",
      "         6           1.2605           0.0132          364.60m\n",
      "         7           1.2501           0.0105          366.33m\n",
      "         8           1.2389           0.0112          363.20m\n",
      "         9           1.2294           0.0094          360.57m\n",
      "        10           1.2215           0.0081          358.36m\n",
      "        20           1.1673           0.0045          325.65m\n",
      "        30           1.1389           0.0023          302.96m\n",
      "        40           1.1193           0.0017          276.98m\n",
      "        50           1.1060           0.0013          256.24m\n",
      "        60           1.0955           0.0008          241.61m\n",
      "        70           1.0871           0.0005          229.26m\n",
      "        80           1.0812           0.0004          219.02m\n",
      "        90           1.0765           0.0005          210.26m\n",
      "       100           1.0734           0.0004          202.06m\n",
      "       200           1.0574           0.0001          141.01m\n"
     ]
    }
   ],
   "source": [
    "# now train the actual model\n",
    "model = GradientBoostingClassifier( learning_rate = 0.1, max_depth = 6, n_iter_no_change = 3,\\\n",
    "                                    n_estimators = 500, subsample = 0.7, verbose = 1 )\n",
    "\n",
    "model = model.fit(X, Y)"
   ]
  },
  {
   "cell_type": "code",
   "execution_count": 9,
   "metadata": {},
   "outputs": [],
   "source": [
    "# save the model\n",
    "with open('setup/AA_Cons_MutSig_QSASA/GBM.pickle', 'wb' ) as o:\n",
    "    pickle.dump( model, o )"
   ]
  },
  {
   "cell_type": "markdown",
   "metadata": {},
   "source": [
    "### AA + MutSig"
   ]
  },
  {
   "cell_type": "code",
   "execution_count": 10,
   "metadata": {},
   "outputs": [
    {
     "name": "stderr",
     "output_type": "stream",
     "text": [
      "/home/josephn/.local/lib/python3.6/site-packages/sklearn/utils/validation.py:63: DataConversionWarning: A column-vector y was passed when a 1d array was expected. Please change the shape of y to (n_samples, ), for example using ravel().\n",
      "  return f(*args, **kwargs)\n"
     ]
    },
    {
     "name": "stdout",
     "output_type": "stream",
     "text": [
      "      Iter       Train Loss      OOB Improve   Remaining Time \n",
      "         1           1.3660           0.0126          165.49m\n",
      "         2           1.3557           0.0101          165.36m\n",
      "         3           1.3468           0.0090          165.03m\n",
      "         4           1.3384           0.0084          164.66m\n",
      "         5           1.3320           0.0064          164.15m\n",
      "         6           1.3262           0.0059          163.39m\n",
      "         7           1.3203           0.0060          162.94m\n",
      "         8           1.3121           0.0080          162.14m\n",
      "         9           1.3042           0.0079          161.39m\n",
      "        10           1.2998           0.0044          161.22m\n",
      "        20           1.2649           0.0025          158.17m\n",
      "        30           1.2407           0.0013          155.06m\n",
      "        40           1.2271           0.0008          151.77m\n",
      "        50           1.2172           0.0010          148.50m\n",
      "        60           1.2100           0.0006          145.24m\n",
      "        70           1.2050           0.0001          141.93m\n",
      "        80           1.2014           0.0003          138.63m\n",
      "        90           1.1983           0.0002          135.32m\n",
      "       100           1.1952           0.0001          131.97m\n"
     ]
    }
   ],
   "source": [
    "# use only the first 54 columns (ie WT [20] + MUT [20] amino acids + MutSig position -1 [4 bases], 0[6 combinations of SBS], 1 [4 bases])\n",
    "model = GradientBoostingClassifier( learning_rate = 0.1, max_depth = 6, n_iter_no_change = 3,\\\n",
    "                                    n_estimators = 500, subsample = 0.7, verbose = 1 )\n",
    "\n",
    "model = model.fit(X[:, 0:54], Y)"
   ]
  },
  {
   "cell_type": "code",
   "execution_count": 11,
   "metadata": {},
   "outputs": [],
   "source": [
    "# save the model\n",
    "with open('setup/AA_MutSig/GBM.pickle', 'wb' ) as o:\n",
    "    pickle.dump( model, o )"
   ]
  },
  {
   "cell_type": "markdown",
   "metadata": {},
   "source": [
    "### AA + Cons + MutSig"
   ]
  },
  {
   "cell_type": "code",
   "execution_count": 12,
   "metadata": {},
   "outputs": [
    {
     "name": "stderr",
     "output_type": "stream",
     "text": [
      "/home/josephn/.local/lib/python3.6/site-packages/sklearn/utils/validation.py:63: DataConversionWarning: A column-vector y was passed when a 1d array was expected. Please change the shape of y to (n_samples, ), for example using ravel().\n",
      "  return f(*args, **kwargs)\n"
     ]
    },
    {
     "name": "stdout",
     "output_type": "stream",
     "text": [
      "      Iter       Train Loss      OOB Improve   Remaining Time \n",
      "         1           1.3605           0.0181          196.51m\n",
      "         2           1.3456           0.0149          197.05m\n",
      "         3           1.3332           0.0125          196.59m\n",
      "         4           1.3226           0.0106          196.15m\n",
      "         5           1.3126           0.0101          195.59m\n",
      "         6           1.3043           0.0082          195.20m\n",
      "         7           1.2958           0.0082          194.64m\n",
      "         8           1.2896           0.0064          194.09m\n",
      "         9           1.2817           0.0078          193.76m\n",
      "        10           1.2760           0.0059          193.43m\n",
      "        20           1.2335           0.0031          189.84m\n",
      "        30           1.2066           0.0016          185.30m\n",
      "        40           1.1899           0.0015          181.10m\n",
      "        50           1.1746           0.0016          177.00m\n",
      "        60           1.1666           0.0010          172.93m\n",
      "        70           1.1593           0.0005          168.89m\n",
      "        80           1.1543           0.0002          164.89m\n",
      "        90           1.1502           0.0003          160.97m\n",
      "       100           1.1464           0.0002          157.01m\n",
      "       200           1.1337           0.0001          117.84m\n"
     ]
    }
   ],
   "source": [
    "# use only the first 54 columns (ie WT [20] + MUT [20] amino acids + MutSig position -1 [4 bases], 0[6 combinations of SBS], 1 [4 bases])\n",
    "model = GradientBoostingClassifier( learning_rate = 0.1, max_depth = 6, n_iter_no_change = 3,\\\n",
    "                                    n_estimators = 500, subsample = 0.7, verbose = 1 )\n",
    "\n",
    "model = model.fit(X[:, 0:57], Y)"
   ]
  },
  {
   "cell_type": "code",
   "execution_count": 13,
   "metadata": {},
   "outputs": [],
   "source": [
    "# save the model\n",
    "with open('setup/AA_Cons_MutSig/GBM.pickle', 'wb' ) as o:\n",
    "    pickle.dump( model, o )"
   ]
  },
  {
   "cell_type": "markdown",
   "metadata": {},
   "source": [
    "### AA + MutSig + QSASA"
   ]
  },
  {
   "cell_type": "code",
   "execution_count": 14,
   "metadata": {},
   "outputs": [
    {
     "name": "stderr",
     "output_type": "stream",
     "text": [
      "/home/josephn/.local/lib/python3.6/site-packages/sklearn/utils/validation.py:63: DataConversionWarning: A column-vector y was passed when a 1d array was expected. Please change the shape of y to (n_samples, ), for example using ravel().\n",
      "  return f(*args, **kwargs)\n"
     ]
    },
    {
     "name": "stdout",
     "output_type": "stream",
     "text": [
      "      Iter       Train Loss      OOB Improve   Remaining Time \n",
      "         1           1.3524           0.0261          192.16m\n",
      "         2           1.3305           0.0222          191.92m\n",
      "         3           1.3128           0.0175          191.90m\n",
      "         4           1.2967           0.0160          191.77m\n",
      "         5           1.2830           0.0138          191.63m\n",
      "         6           1.2708           0.0120          191.32m\n",
      "         7           1.2593           0.0115          191.07m\n",
      "         8           1.2500           0.0092          190.77m\n",
      "         9           1.2426           0.0075          190.35m\n",
      "        10           1.2352           0.0074          190.03m\n",
      "        20           1.1898           0.0037          186.38m\n",
      "        30           1.1625           0.0022          181.97m\n",
      "        40           1.1462           0.0019          177.93m\n",
      "        50           1.1334           0.0014          173.78m\n",
      "        60           1.1248           0.0010          169.74m\n",
      "        70           1.1183           0.0007          165.72m\n",
      "        80           1.1140           0.0007          161.88m\n",
      "        90           1.1107           0.0004          157.78m\n",
      "       100           1.1077           0.0002          153.64m\n"
     ]
    }
   ],
   "source": [
    "# use only the first 54 columns + last column (QSASA)\n",
    "model = GradientBoostingClassifier( learning_rate = 0.1, max_depth = 6, n_iter_no_change = 3,\\\n",
    "                                    n_estimators = 500, subsample = 0.7, verbose = 1 )\n",
    "\n",
    "model = model.fit(X[:, [i for i in range(54)] + [57]], Y)"
   ]
  },
  {
   "cell_type": "code",
   "execution_count": 15,
   "metadata": {},
   "outputs": [],
   "source": [
    "# save the model\n",
    "with open('setup/AA_MutSig_QSASA/GBM.pickle', 'wb' ) as o:\n",
    "    pickle.dump( model, o )"
   ]
  },
  {
   "cell_type": "markdown",
   "metadata": {},
   "source": [
    "### AA only"
   ]
  },
  {
   "cell_type": "code",
   "execution_count": 16,
   "metadata": {},
   "outputs": [
    {
     "name": "stderr",
     "output_type": "stream",
     "text": [
      "/home/josephn/.local/lib/python3.6/site-packages/sklearn/utils/validation.py:63: DataConversionWarning: A column-vector y was passed when a 1d array was expected. Please change the shape of y to (n_samples, ), for example using ravel().\n",
      "  return f(*args, **kwargs)\n"
     ]
    },
    {
     "name": "stdout",
     "output_type": "stream",
     "text": [
      "      Iter       Train Loss      OOB Improve   Remaining Time \n",
      "         1           1.3663           0.0123          116.08m\n",
      "         2           1.3563           0.0099          116.40m\n",
      "         3           1.3480           0.0082          116.24m\n",
      "         4           1.3415           0.0067          116.01m\n",
      "         5           1.3355           0.0060          115.71m\n",
      "         6           1.3304           0.0051          115.47m\n",
      "         7           1.3259           0.0047          115.33m\n",
      "         8           1.3188           0.0069          114.66m\n",
      "         9           1.3142           0.0046          114.53m\n",
      "        10           1.3081           0.0059          114.01m\n",
      "        20           1.2748           0.0031          112.02m\n",
      "        30           1.2548           0.0011          109.76m\n",
      "        40           1.2384           0.0011          107.47m\n",
      "        50           1.2255           0.0009          105.08m\n",
      "        60           1.2184           0.0006          102.82m\n",
      "        70           1.2126           0.0005          100.50m\n",
      "        80           1.2078           0.0006           98.20m\n",
      "        90           1.2028           0.0003           95.81m\n",
      "       100           1.1993           0.0000           93.42m\n"
     ]
    }
   ],
   "source": [
    "# use only the first 40 columns (ie WT [20] + MUT [20] amino acids\n",
    "model = GradientBoostingClassifier( learning_rate = 0.1, max_depth = 6, n_iter_no_change = 3,\\\n",
    "                                    n_estimators = 500, subsample = 0.7, verbose = 1 )\n",
    "\n",
    "model = model.fit(X[:, 0:40], Y)"
   ]
  },
  {
   "cell_type": "code",
   "execution_count": 17,
   "metadata": {},
   "outputs": [],
   "source": [
    "# save the model\n",
    "with open('setup/AA/GBM.pickle', 'wb' ) as o:\n",
    "    pickle.dump( model, o )"
   ]
  },
  {
   "cell_type": "markdown",
   "metadata": {},
   "source": [
    "### MutSig only"
   ]
  },
  {
   "cell_type": "code",
   "execution_count": 18,
   "metadata": {},
   "outputs": [
    {
     "name": "stderr",
     "output_type": "stream",
     "text": [
      "/home/josephn/.local/lib/python3.6/site-packages/sklearn/utils/validation.py:63: DataConversionWarning: A column-vector y was passed when a 1d array was expected. Please change the shape of y to (n_samples, ), for example using ravel().\n",
      "  return f(*args, **kwargs)\n"
     ]
    },
    {
     "name": "stdout",
     "output_type": "stream",
     "text": [
      "      Iter       Train Loss      OOB Improve   Remaining Time \n",
      "         1           1.3715           0.0070           54.49m\n",
      "         2           1.3658           0.0057           54.68m\n",
      "         3           1.3612           0.0046           54.49m\n",
      "         4           1.3575           0.0037           54.36m\n",
      "         5           1.3543           0.0030           54.22m\n",
      "         6           1.3519           0.0025           54.15m\n",
      "         7           1.3498           0.0021           54.07m\n",
      "         8           1.3480           0.0017           54.00m\n",
      "         9           1.3467           0.0014           53.95m\n",
      "        10           1.3455           0.0012           53.84m\n",
      "        20           1.3395           0.0002           52.83m\n",
      "        30           1.3376           0.0002           51.75m\n",
      "        40           1.3366           0.0000           50.65m\n"
     ]
    }
   ],
   "source": [
    "model = GradientBoostingClassifier( learning_rate = 0.1, max_depth = 6, n_iter_no_change = 3,\\\n",
    "                                    n_estimators = 500, subsample = 0.7, verbose = 1 )\n",
    "\n",
    "model = model.fit(X[:, 41:54], Y)"
   ]
  },
  {
   "cell_type": "code",
   "execution_count": 19,
   "metadata": {},
   "outputs": [],
   "source": [
    "# save the model\n",
    "with open('setup/MutSig/GBM.pickle', 'wb' ) as o:\n",
    "    pickle.dump( model, o )"
   ]
  },
  {
   "cell_type": "markdown",
   "metadata": {},
   "source": [
    "## train predictors without core variants\n",
    "\n",
    "simulate effect of not having mutational dark matter in the training data."
   ]
  },
  {
   "cell_type": "code",
   "execution_count": 20,
   "metadata": {},
   "outputs": [],
   "source": [
    "surface = X[:, -1] >= 0.15\n",
    "X = X[surface, :]\n",
    "Y = Y[surface]"
   ]
  },
  {
   "cell_type": "code",
   "execution_count": 21,
   "metadata": {},
   "outputs": [
    {
     "name": "stderr",
     "output_type": "stream",
     "text": [
      "A column-vector y was passed when a 1d array was expected. Please change the shape of y to (n_samples, ), for example using ravel().\n"
     ]
    },
    {
     "name": "stdout",
     "output_type": "stream",
     "text": [
      "      Iter       Train Loss      OOB Improve   Remaining Time \n",
      "         1           1.2223           0.0177           65.07m\n",
      "         2           1.2091           0.0137           63.86m\n",
      "         3           1.1970           0.0112           63.40m\n",
      "         4           1.1881           0.0092           64.64m\n",
      "         5           1.1796           0.0086           63.86m\n",
      "         6           1.1720           0.0076           63.53m\n",
      "         7           1.1656           0.0066           63.24m\n",
      "         8           1.1587           0.0064           63.11m\n",
      "         9           1.1535           0.0057           62.81m\n",
      "        10           1.1490           0.0047           62.53m\n",
      "        20           1.1120           0.0031           62.50m\n",
      "        30           1.0921           0.0019           60.36m\n",
      "        40           1.0765           0.0009           58.80m\n",
      "        50           1.0662           0.0005           57.07m\n",
      "        60           1.0602           0.0004           55.59m\n",
      "        70           1.0557           0.0006           54.32m\n",
      "        80           1.0508           0.0002           53.11m\n",
      "        90           1.0473           0.0005           51.85m\n",
      "       100           1.0439           0.0003           50.50m\n"
     ]
    },
    {
     "name": "stderr",
     "output_type": "stream",
     "text": [
      "A column-vector y was passed when a 1d array was expected. Please change the shape of y to (n_samples, ), for example using ravel().\n"
     ]
    },
    {
     "name": "stdout",
     "output_type": "stream",
     "text": [
      "      Iter       Train Loss      OOB Improve   Remaining Time \n",
      "         1           1.2272           0.0133           44.85m\n",
      "         2           1.2170           0.0103           44.66m\n",
      "         3           1.2085           0.0081           44.54m\n",
      "         4           1.2020           0.0069           45.23m\n",
      "         5           1.1960           0.0057           44.84m\n",
      "         6           1.1897           0.0063           44.47m\n",
      "         7           1.1851           0.0039           44.33m\n",
      "         8           1.1821           0.0035           44.19m\n",
      "         9           1.1786           0.0040           44.06m\n",
      "        10           1.1744           0.0040           43.82m\n",
      "        20           1.1459           0.0015           42.58m\n",
      "        30           1.1281           0.0012           42.21m\n",
      "        40           1.1169           0.0005           42.08m\n",
      "        50           1.1094           0.0009           41.35m\n",
      "        60           1.1047           0.0002           40.32m\n",
      "        70           1.1014           0.0003           39.34m\n",
      "        80           1.0989           0.0003           38.34m\n",
      "        90           1.0969           0.0001           37.44m\n",
      "       100           1.0955           0.0000           36.50m\n"
     ]
    },
    {
     "name": "stderr",
     "output_type": "stream",
     "text": [
      "A column-vector y was passed when a 1d array was expected. Please change the shape of y to (n_samples, ), for example using ravel().\n"
     ]
    },
    {
     "name": "stdout",
     "output_type": "stream",
     "text": [
      "      Iter       Train Loss      OOB Improve   Remaining Time \n",
      "         1           1.2229           0.0175           57.49m\n",
      "         2           1.2091           0.0137           56.91m\n",
      "         3           1.1977           0.0112           56.57m\n",
      "         4           1.1885           0.0091           56.53m\n",
      "         5           1.1809           0.0083           56.57m\n",
      "         6           1.1727           0.0076           56.29m\n",
      "         7           1.1675           0.0061           56.14m\n",
      "         8           1.1617           0.0057           56.20m\n",
      "         9           1.1556           0.0057           56.17m\n",
      "        10           1.1509           0.0041           56.11m\n",
      "        20           1.1168           0.0020           54.72m\n",
      "        30           1.0948           0.0018           54.38m\n",
      "        40           1.0813           0.0009           53.54m\n",
      "        50           1.0726           0.0010           52.33m\n",
      "        60           1.0665           0.0008           51.06m\n",
      "        70           1.0625           0.0005           50.41m\n",
      "        80           1.0578           0.0002           49.95m\n",
      "        90           1.0552           0.0003           48.62m\n",
      "       100           1.0519           0.0002           47.15m\n",
      "       200           1.0414           0.0001           35.60m\n"
     ]
    },
    {
     "name": "stderr",
     "output_type": "stream",
     "text": [
      "A column-vector y was passed when a 1d array was expected. Please change the shape of y to (n_samples, ), for example using ravel().\n"
     ]
    },
    {
     "name": "stdout",
     "output_type": "stream",
     "text": [
      "      Iter       Train Loss      OOB Improve   Remaining Time \n",
      "         1           1.2257           0.0137           71.64m\n",
      "         2           1.2158           0.0105           74.36m\n",
      "         3           1.2075           0.0083           71.40m\n",
      "         4           1.2001           0.0069           72.36m\n",
      "         5           1.1946           0.0058           73.32m\n",
      "         6           1.1889           0.0059           74.66m\n",
      "         7           1.1838           0.0053           75.95m\n",
      "         8           1.1785           0.0047           76.86m\n",
      "         9           1.1741           0.0049           78.52m\n",
      "        10           1.1704           0.0036           78.89m\n",
      "        20           1.1417           0.0015           79.44m\n",
      "        30           1.1228           0.0020           78.68m\n",
      "        40           1.1113           0.0006           77.29m\n",
      "        50           1.1021           0.0008           75.52m\n",
      "        60           1.0962           0.0006           73.75m\n",
      "        70           1.0915           0.0004           72.07m\n",
      "        80           1.0882           0.0004           70.46m\n",
      "        90           1.0860           0.0002           68.89m\n",
      "       100           1.0854           0.0001           66.81m\n"
     ]
    },
    {
     "name": "stderr",
     "output_type": "stream",
     "text": [
      "A column-vector y was passed when a 1d array was expected. Please change the shape of y to (n_samples, ), for example using ravel().\n"
     ]
    },
    {
     "name": "stdout",
     "output_type": "stream",
     "text": [
      "      Iter       Train Loss      OOB Improve   Remaining Time \n",
      "         1           1.2278           0.0128           43.01m\n",
      "         2           1.2174           0.0099           42.90m\n",
      "         3           1.2100           0.0079           42.40m\n",
      "         4           1.2034           0.0063           42.39m\n",
      "         5           1.1986           0.0051           42.26m\n",
      "         6           1.1943           0.0043           42.28m\n",
      "         7           1.1902           0.0039           42.11m\n",
      "         8           1.1865           0.0035           42.01m\n",
      "         9           1.1824           0.0040           42.21m\n",
      "        10           1.1786           0.0042           42.96m\n",
      "        20           1.1520           0.0017           41.41m\n",
      "        30           1.1339           0.0010           40.16m\n",
      "        40           1.1228           0.0012           39.34m\n",
      "        50           1.1156           0.0003           38.87m\n",
      "        60           1.1078           0.0004           38.19m\n",
      "        70           1.1044           0.0004           37.97m\n",
      "        80           1.1022           0.0002           37.92m\n",
      "        90           1.0997           0.0001           37.65m\n",
      "       100           1.0974           0.0001           37.11m\n"
     ]
    },
    {
     "name": "stderr",
     "output_type": "stream",
     "text": [
      "A column-vector y was passed when a 1d array was expected. Please change the shape of y to (n_samples, ), for example using ravel().\n"
     ]
    },
    {
     "name": "stdout",
     "output_type": "stream",
     "text": [
      "      Iter       Train Loss      OOB Improve   Remaining Time \n",
      "         1           1.2343           0.0064           27.97m\n",
      "         2           1.2291           0.0051           27.90m\n",
      "         3           1.2242           0.0044           27.93m\n",
      "         4           1.2212           0.0034           27.78m\n",
      "         5           1.2182           0.0029           27.56m\n",
      "         6           1.2160           0.0026           27.48m\n",
      "         7           1.2140           0.0019           27.31m\n",
      "         8           1.2118           0.0016           27.07m\n",
      "         9           1.2102           0.0018           26.83m\n",
      "        10           1.2085           0.0014           26.84m\n",
      "        20           1.2021           0.0004           25.93m\n",
      "        30           1.2004           0.0001           25.54m\n",
      "        40           1.1994           0.0000           24.45m\n"
     ]
    }
   ],
   "source": [
    "# now train the actual model\n",
    "model = GradientBoostingClassifier( learning_rate = 0.1, max_depth = 6, n_iter_no_change = 3,\\\n",
    "                                    n_estimators = 500, subsample = 0.7, verbose = 1 )\n",
    "model = model.fit(X, Y)\n",
    "with open('setup/AA_Cons_MutSig_QSASA/GBM-no-core.pickle', 'wb' ) as o:\n",
    "    pickle.dump( model, o )\n",
    "\n",
    "#_______________________________________    \n",
    "# AA + MutSig\n",
    "model = GradientBoostingClassifier( learning_rate = 0.1, max_depth = 6, n_iter_no_change = 3,\\\n",
    "                                    n_estimators = 500, subsample = 0.7, verbose = 1 )\n",
    "model = model.fit(X[:, 0:54], Y)\n",
    "with open('setup/AA_MutSig/GBM-no-core.pickle', 'wb' ) as o:\n",
    "    pickle.dump( model, o )\n",
    "\n",
    "#_______________________________________    \n",
    "# AA + Cons + MutSig\n",
    "model = GradientBoostingClassifier( learning_rate = 0.1, max_depth = 6, n_iter_no_change = 3,\\\n",
    "                                    n_estimators = 500, subsample = 0.7, verbose = 1 )\n",
    "model = model.fit(X[:, 0:57], Y)\n",
    "with open('setup/AA_Cons_MutSig/GBM-no-core.pickle', 'wb' ) as o:\n",
    "    pickle.dump( model, o )\n",
    "\n",
    "#_______________________________________    \n",
    "# AA MutSig QSASA\n",
    "model = GradientBoostingClassifier( learning_rate = 0.1, max_depth = 6, n_iter_no_change = 3,\\\n",
    "                                    n_estimators = 500, subsample = 0.7, verbose = 1 )\n",
    "model = model.fit(X[:, [i for i in range(54)] + [57]], Y)\n",
    "with open('setup/AA_MutSig_QSASA/GBM-no-core.pickle', 'wb' ) as o:\n",
    "    pickle.dump( model, o )\n",
    "\n",
    "#_______________________________________    \n",
    "# AA only\n",
    "model = GradientBoostingClassifier( learning_rate = 0.1, max_depth = 6, n_iter_no_change = 3,\\\n",
    "                                    n_estimators = 500, subsample = 0.7, verbose = 1 )\n",
    "model = model.fit(X[:, 0:40], Y)\n",
    "with open('setup/AA/GBM-no-core.pickle', 'wb' ) as o:\n",
    "    pickle.dump( model, o )\n",
    "\n",
    "#_______________________________________    \n",
    "# MutSig only\n",
    "model = GradientBoostingClassifier( learning_rate = 0.1, max_depth = 6, n_iter_no_change = 3,\\\n",
    "                                    n_estimators = 500, subsample = 0.7, verbose = 1 )\n",
    "model = model.fit(X[:, 41:54], Y)\n",
    "with open('setup/MutSig/GBM-no-core.pickle', 'wb' ) as o:\n",
    "    pickle.dump( model, o )\n"
   ]
  },
  {
   "cell_type": "markdown",
   "metadata": {},
   "source": [
    "# Evaluation\n",
    "\n",
    "## Holdout set from same proteins/experiments encounted in training\n",
    "\n",
    "These were the 1% variants removed as `(X_test, Y_test)`, i.e. coming from the same proteins/experiments used in training but withheld from model construction and training."
   ]
  },
  {
   "cell_type": "code",
   "execution_count": 22,
   "metadata": {},
   "outputs": [],
   "source": [
    "def getROCcurve(model, X, Y, dataset_name, test_set, model_name, model_type):\n",
    "    \"\"\"\n",
    "    given the feature matrix X, run it through model and generate a pd.DataFrame of statistics needed for\n",
    "    plotting roc curve.\n",
    "    args:\n",
    "      model: sklearn model\n",
    "      X: feature matrix\n",
    "      Y: true labels\n",
    "      dataset_name: name of training dataset (EVmutation / DMSexp)\n",
    "      test_set: name of testing dataset ('same protein'/'BRCA1'/etc)\n",
    "      model_name: name of model (e.g. 'AA_Cons_MutSig_QSASA')\n",
    "      model_type: type of model (all variants / no-core)\n",
    "    \"\"\"\n",
    "    roc = pd.DataFrame(list(sklearn.metrics.roc_curve( Y, \\\n",
    "                                                       model.predict_proba( X )[:, 1] ))).T\n",
    "    roc.columns = ['fpr', 'tpr', 'threshold']\n",
    "    roc['dataset_name'] = dataset_name\n",
    "    roc['test_set'] = test_set\n",
    "    roc['model_name'] = model_name\n",
    "    roc['model_type'] = model_type\n",
    "    return roc    "
   ]
  },
  {
   "cell_type": "code",
   "execution_count": 23,
   "metadata": {
    "scrolled": true
   },
   "outputs": [
    {
     "name": "stdout",
     "output_type": "stream",
     "text": [
      "AA_Cons_MutSig_QSASA :: Accuracy =  0.7342945239694761 , F1-score =  0.6962805442337605 , ROC-AUC =  0.8077505351027433\n",
      "AA_Cons_MutSig       :: Accuracy =  0.7085766454791311 , F1-score =  0.664525084275233 , ROC-AUC =  0.773645187748739\n",
      "AA_MutSig_QSASA      :: Accuracy =  0.7198077618727714 , F1-score =  0.6790069858309982 , ROC-AUC =  0.7890640049417041\n",
      "AA_MutSig            :: Accuracy =  0.6861316383304911 , F1-score =  0.6329149626286843 , ROC-AUC =  0.740971876582381\n",
      "AA only              :: Accuracy =  0.6858215768349611 , F1-score =  0.6333353436664455 , ROC-AUC =  0.7406807873737661\n",
      "MutSig only          :: Accuracy =  0.5926997743441338 , F1-score =  0.47339702901939823 , ROC-AUC =  0.6139261713442673\n"
     ]
    }
   ],
   "source": [
    "with open('setup/AA_Cons_MutSig_QSASA/GBM.pickle', 'rb' ) as r:\n",
    "    model = pickle.load( r )\n",
    "with open('data/EVmutation_test_set.pickle', 'rb') as r:\n",
    "    X_test, Y_test = pickle.load(r)\n",
    "print('AA_Cons_MutSig_QSASA :: Accuracy = ', model.score( X_test, Y_test ), \\\n",
    "      \", F1-score = \", sklearn.metrics.f1_score(Y_test, model.predict( X_test ), average='binary'), \\\n",
    "      \", ROC-AUC = \", sklearn.metrics.roc_auc_score(Y_test, model.predict_proba( X_test )[:, 1]))\n",
    "roc = getROCcurve( model, X_test, Y_test, 'EVmutation', 'same proteins', 'AA + Cons + MutSig + Q(SASA)', 'all variants')\n",
    "roc.to_csv('roc_curves_all.csv', header=True, index=False, mode = 'a')\n",
    "\n",
    "with open('setup/AA_Cons_MutSig/GBM.pickle', 'rb' ) as r:\n",
    "    model = pickle.load( r )\n",
    "print('AA_Cons_MutSig       :: Accuracy = ', model.score( X_test[:, 0:57], Y_test ), \\\n",
    "      \", F1-score = \", sklearn.metrics.f1_score(Y_test, model.predict( X_test[:, 0:57], ), average='binary'), \\\n",
    "      \", ROC-AUC = \", sklearn.metrics.roc_auc_score(Y_test, model.predict_proba( X_test[:, 0:57] )[:, 1]))\n",
    "roc = getROCcurve( model, X_test[:, 0:57], Y_test, 'EVmutation', 'same proteins', 'AA + Cons + MutSig', 'all variants')\n",
    "roc.to_csv('roc_curves_all.csv', header=True, index=False, mode = 'a')\n",
    "\n",
    "with open('setup/AA_MutSig_QSASA/GBM.pickle', 'rb' ) as r:\n",
    "    model = pickle.load( r )\n",
    "print('AA_MutSig_QSASA      :: Accuracy = ', model.score( X_test[:, [i for i in range(54)] + [57]], Y_test ), \\\n",
    "      \", F1-score = \", sklearn.metrics.f1_score(Y_test, model.predict( X_test[:, [i for i in range(54)] + [57]] ), average='binary'), \\\n",
    "      \", ROC-AUC = \", sklearn.metrics.roc_auc_score(Y_test, model.predict_proba( X_test[:, [i for i in range(54)] + [57]] )[:, 1]))\n",
    "roc = getROCcurve( model, X_test[:, [i for i in range(54)] + [57]], Y_test, 'EVmutation', 'same proteins', \\\n",
    "                  'AA + MutSig + Q(SASA)', 'all variants')\n",
    "roc.to_csv('roc_curves_all.csv', header=True, index=False, mode = 'a')\n",
    "\n",
    "with open('setup/AA_MutSig/GBM.pickle', 'rb' ) as r:\n",
    "    model = pickle.load( r )\n",
    "print('AA_MutSig            :: Accuracy = ', model.score( X_test[:, 0:54], Y_test ), \\\n",
    "      \", F1-score = \", sklearn.metrics.f1_score(Y_test, model.predict( X_test[:, 0:54] ), average='binary'), \\\n",
    "      \", ROC-AUC = \", sklearn.metrics.roc_auc_score(Y_test, model.predict_proba( X_test[:, 0:54] )[:, 1]))\n",
    "roc = getROCcurve( model, X_test[:, 0:54], Y_test, 'EVmutation', 'same proteins', 'AA + MutSig', 'all variants')\n",
    "roc.to_csv('roc_curves_all.csv', header=True, index=False, mode = 'a')\n",
    "\n",
    "with open('setup/AA/GBM.pickle', 'rb' ) as r:\n",
    "    model = pickle.load( r )\n",
    "print('AA only              :: Accuracy = ', model.score( X_test[:, 0:40], Y_test ), \\\n",
    "      \", F1-score = \", sklearn.metrics.f1_score(Y_test, model.predict( X_test[:, 0:40] ), average='binary'), \\\n",
    "      \", ROC-AUC = \", sklearn.metrics.roc_auc_score(Y_test, model.predict_proba( X_test[:, 0:40] )[:, 1]))\n",
    "roc = getROCcurve( model, X_test[:, 0:40], Y_test, 'EVmutation', 'same proteins', 'AA only', 'all variants')\n",
    "roc.to_csv('roc_curves_all.csv', header=True, index=False, mode = 'a')\n",
    "\n",
    "with open('setup/MutSig/GBM.pickle', 'rb' ) as r:\n",
    "    model = pickle.load( r )\n",
    "print('MutSig only          :: Accuracy = ', model.score( X_test[:, 41:54], Y_test ), \\\n",
    "      \", F1-score = \", sklearn.metrics.f1_score(Y_test, model.predict( X_test[:, 41:54] ), average='binary'), \\\n",
    "      \", ROC-AUC = \", sklearn.metrics.roc_auc_score(Y_test, model.predict_proba( X_test[:, 41:54] )[:, 1]))\n",
    "roc = getROCcurve( model, X_test[:, 41:54], Y_test, 'EVmutation', 'same proteins', 'MutSig only', 'all variants')\n",
    "roc.to_csv('roc_curves_all.csv', header=True, index=False, mode = 'a')\n"
   ]
  },
  {
   "cell_type": "markdown",
   "metadata": {},
   "source": [
    "73% accuracy!\n",
    "\n",
    "'no-core' predictors:"
   ]
  },
  {
   "cell_type": "code",
   "execution_count": 24,
   "metadata": {},
   "outputs": [
    {
     "name": "stdout",
     "output_type": "stream",
     "text": [
      "AA_Cons_MutSig_QSASA :: Accuracy =  0.6966565035398687 , F1-score =  0.6012770004075533 , ROC-AUC =  0.777753619768631\n",
      "AA_Cons_MutSig       :: Accuracy =  0.6701634713106989 , F1-score =  0.5210365701135624 , ROC-AUC =  0.7629302109341842\n",
      "AA_MutSig_QSASA      :: Accuracy =  0.6714037172928187 , F1-score =  0.5528154156313002 , ROC-AUC =  0.7499191377998582\n",
      "AA_MutSig            :: Accuracy =  0.6305100511601468 , F1-score =  0.4197056595606536 , ROC-AUC =  0.7291261380853359\n",
      "AA only              :: Accuracy =  0.6306478562692712 , F1-score =  0.4203924960804455 , ROC-AUC =  0.7292447464645916\n",
      "MutSig only          :: Accuracy =  0.5517027543796186 , F1-score =  0.06394993346041794 , ROC-AUC =  0.6041657160748721\n"
     ]
    }
   ],
   "source": [
    "with open('setup/AA_Cons_MutSig_QSASA/GBM-no-core.pickle', 'rb' ) as r:\n",
    "    model = pickle.load( r )\n",
    "with open('data/EVmutation_test_set.pickle', 'rb') as r:\n",
    "    X_test, Y_test = pickle.load(r)\n",
    "print('AA_Cons_MutSig_QSASA :: Accuracy = ', model.score( X_test, Y_test ), \\\n",
    "      \", F1-score = \", sklearn.metrics.f1_score(Y_test, model.predict( X_test ), average='binary'), \\\n",
    "      \", ROC-AUC = \", sklearn.metrics.roc_auc_score(Y_test, model.predict_proba( X_test )[:, 1]))\n",
    "roc = getROCcurve( model, X_test, Y_test, 'EVmutation', 'same proteins', 'AA + Cons + MutSig + Q(SASA)', 'no-core')\n",
    "roc.to_csv('roc_curves_all.csv', header=True, index=False, mode = 'a')\n",
    "\n",
    "with open('setup/AA_Cons_MutSig/GBM-no-core.pickle', 'rb' ) as r:\n",
    "    model = pickle.load( r )\n",
    "print('AA_Cons_MutSig       :: Accuracy = ', model.score( X_test[:, 0:57], Y_test ), \\\n",
    "      \", F1-score = \", sklearn.metrics.f1_score(Y_test, model.predict( X_test[:, 0:57], ), average='binary'), \\\n",
    "      \", ROC-AUC = \", sklearn.metrics.roc_auc_score(Y_test, model.predict_proba( X_test[:, 0:57] )[:, 1]))\n",
    "roc = getROCcurve( model, X_test[:, 0:57], Y_test, 'EVmutation', 'same proteins', 'AA + Cons + MutSig', 'no-core')\n",
    "roc.to_csv('roc_curves_all.csv', header=True, index=False, mode = 'a')\n",
    "\n",
    "with open('setup/AA_MutSig_QSASA/GBM-no-core.pickle', 'rb' ) as r:\n",
    "    model = pickle.load( r )\n",
    "print('AA_MutSig_QSASA      :: Accuracy = ', model.score( X_test[:, [i for i in range(54)] + [57]], Y_test ), \\\n",
    "      \", F1-score = \", sklearn.metrics.f1_score(Y_test, model.predict( X_test[:, [i for i in range(54)] + [57]] ), average='binary'), \\\n",
    "      \", ROC-AUC = \", sklearn.metrics.roc_auc_score(Y_test, model.predict_proba( X_test[:, [i for i in range(54)] + [57]] )[:, 1]))\n",
    "roc = getROCcurve( model, X_test[:, [i for i in range(54)] + [57]], Y_test, 'EVmutation', 'same proteins', \\\n",
    "                  'AA + MutSig + Q(SASA)', 'no-core')\n",
    "roc.to_csv('roc_curves_all.csv', header=True, index=False, mode = 'a')\n",
    "\n",
    "with open('setup/AA_MutSig/GBM-no-core.pickle', 'rb' ) as r:\n",
    "    model = pickle.load( r )\n",
    "print('AA_MutSig            :: Accuracy = ', model.score( X_test[:, 0:54], Y_test ), \\\n",
    "      \", F1-score = \", sklearn.metrics.f1_score(Y_test, model.predict( X_test[:, 0:54] ), average='binary'), \\\n",
    "      \", ROC-AUC = \", sklearn.metrics.roc_auc_score(Y_test, model.predict_proba( X_test[:, 0:54] )[:, 1]))\n",
    "roc = getROCcurve( model, X_test[:, 0:54], Y_test, 'EVmutation', 'same proteins', 'AA + MutSig', 'no-core')\n",
    "roc.to_csv('roc_curves_all.csv', header=True, index=False, mode = 'a')\n",
    "\n",
    "with open('setup/AA/GBM-no-core.pickle', 'rb' ) as r:\n",
    "    model = pickle.load( r )\n",
    "print('AA only              :: Accuracy = ', model.score( X_test[:, 0:40], Y_test ), \\\n",
    "      \", F1-score = \", sklearn.metrics.f1_score(Y_test, model.predict( X_test[:, 0:40] ), average='binary'), \\\n",
    "      \", ROC-AUC = \", sklearn.metrics.roc_auc_score(Y_test, model.predict_proba( X_test[:, 0:40] )[:, 1]))\n",
    "roc = getROCcurve( model, X_test[:, 0:40], Y_test, 'EVmutation', 'same proteins', 'AA only', 'no-core')\n",
    "roc.to_csv('roc_curves_all.csv', header=True, index=False, mode = 'a')\n",
    "\n",
    "with open('setup/MutSig/GBM-no-core.pickle', 'rb' ) as r:\n",
    "    model = pickle.load( r )\n",
    "print('MutSig only          :: Accuracy = ', model.score( X_test[:, 41:54], Y_test ), \\\n",
    "      \", F1-score = \", sklearn.metrics.f1_score(Y_test, model.predict( X_test[:, 41:54] ), average='binary'), \\\n",
    "      \", ROC-AUC = \", sklearn.metrics.roc_auc_score(Y_test, model.predict_proba( X_test[:, 41:54] )[:, 1]))\n",
    "roc = getROCcurve( model, X_test[:, 41:54], Y_test, 'EVmutation', 'same proteins', 'MutSig only', 'no-core')\n",
    "roc.to_csv('roc_curves_all.csv', header=True, index=False, mode = 'a')\n"
   ]
  },
  {
   "cell_type": "markdown",
   "metadata": {},
   "source": [
    "## Train same model but without BRCA1 and PTEN variants\n",
    "\n",
    "For validating the predictions."
   ]
  },
  {
   "cell_type": "code",
   "execution_count": 25,
   "metadata": {},
   "outputs": [],
   "source": [
    "with open('human_protein_predictions/EVmutation_human_protein_predictions_collapsed_annotated_excludedBRCA1-PTEN.pickle', 'rb') as r:\n",
    "    X, Y = pickle.load(r)\n",
    "\n",
    "Y = np.array(Y < -5, dtype=int)"
   ]
  },
  {
   "cell_type": "code",
   "execution_count": 26,
   "metadata": {},
   "outputs": [
    {
     "name": "stdout",
     "output_type": "stream",
     "text": [
      "AA_Cons_MutSig_QSASA\n"
     ]
    },
    {
     "name": "stderr",
     "output_type": "stream",
     "text": [
      "/home/josephn/.local/lib/python3.6/site-packages/sklearn/utils/validation.py:63: DataConversionWarning: A column-vector y was passed when a 1d array was expected. Please change the shape of y to (n_samples, ), for example using ravel().\n",
      "  return f(*args, **kwargs)\n"
     ]
    },
    {
     "name": "stdout",
     "output_type": "stream",
     "text": [
      "      Iter       Train Loss      OOB Improve   Remaining Time \n",
      "         1           1.3498           0.0286          223.71m\n",
      "         2           1.3258           0.0241          222.96m\n",
      "         3           1.3052           0.0203          221.81m\n",
      "         4           1.2881           0.0169          221.08m\n",
      "         5           1.2737           0.0145          220.77m\n",
      "         6           1.2612           0.0127          220.16m\n",
      "         7           1.2502           0.0109          219.71m\n",
      "         8           1.2392           0.0111          219.06m\n",
      "         9           1.2300           0.0092          218.63m\n",
      "        10           1.2223           0.0077          218.20m\n",
      "        20           1.1698           0.0033          213.56m\n",
      "        30           1.1386           0.0029          208.61m\n",
      "        40           1.1195           0.0011          203.84m\n",
      "        50           1.1065           0.0009          199.27m\n",
      "        60           1.0967           0.0017          194.57m\n",
      "        70           1.0892           0.0009          189.95m\n",
      "        80           1.0830           0.0006          185.39m\n",
      "        90           1.0782           0.0004          180.89m\n",
      "       100           1.0747           0.0005          176.41m\n",
      "       200           1.0569           0.0001          132.44m\n"
     ]
    }
   ],
   "source": [
    "# AA_Cons_MutSig_QSASA\n",
    "print('AA_Cons_MutSig_QSASA')\n",
    "model = GradientBoostingClassifier( learning_rate = 0.1, max_depth = 6, n_iter_no_change = 3,\\\n",
    "                                    n_estimators = 500, subsample = 0.7, verbose = 1 )\n",
    "model = model.fit(X, Y)\n",
    "# save the model\n",
    "with open('setup/AA_Cons_MutSig_QSASA/GBM-excludeBRCA1-PTEN.pickle', 'wb' ) as o:\n",
    "    pickle.dump( model, o )"
   ]
  },
  {
   "cell_type": "code",
   "execution_count": 27,
   "metadata": {},
   "outputs": [
    {
     "name": "stdout",
     "output_type": "stream",
     "text": [
      "AA_Cons_MutSig\n"
     ]
    },
    {
     "name": "stderr",
     "output_type": "stream",
     "text": [
      "A column-vector y was passed when a 1d array was expected. Please change the shape of y to (n_samples, ), for example using ravel().\n"
     ]
    },
    {
     "name": "stdout",
     "output_type": "stream",
     "text": [
      "      Iter       Train Loss      OOB Improve   Remaining Time \n",
      "         1           1.3604           0.0180          284.88m\n",
      "         2           1.3457           0.0149          285.71m\n",
      "         3           1.3330           0.0126          283.22m\n",
      "         4           1.3227           0.0103          281.35m\n",
      "         5           1.3134           0.0093          280.92m\n",
      "         6           1.3044           0.0089          283.77m\n",
      "         7           1.2976           0.0068          284.67m\n",
      "         8           1.2888           0.0088          286.65m\n",
      "         9           1.2827           0.0061          284.38m\n",
      "        10           1.2767           0.0060          283.94m\n",
      "        20           1.2333           0.0033          271.05m\n",
      "        30           1.2077           0.0017          255.86m\n",
      "        40           1.1899           0.0015          237.20m\n",
      "        50           1.1766           0.0011          221.37m\n",
      "        60           1.1675           0.0004          212.38m\n",
      "        70           1.1618           0.0002          206.85m\n",
      "        80           1.1548           0.0007          201.19m\n",
      "        90           1.1515           0.0003          195.56m\n",
      "       100           1.1484           0.0002          187.68m\n"
     ]
    }
   ],
   "source": [
    "#_______________________________________    \n",
    "# AA + Cons + MutSig\n",
    "print('AA_Cons_MutSig')\n",
    "model = GradientBoostingClassifier( learning_rate = 0.1, max_depth = 6, n_iter_no_change = 3,\\\n",
    "                                    n_estimators = 500, subsample = 0.7, verbose = 1 )\n",
    "model = model.fit(X[:, 0:57], Y)\n",
    "with open('setup/AA_Cons_MutSig/GBM-excludeBRCA1-PTEN.pickle', 'wb' ) as o:\n",
    "    pickle.dump( model, o )"
   ]
  },
  {
   "cell_type": "code",
   "execution_count": 28,
   "metadata": {},
   "outputs": [
    {
     "name": "stdout",
     "output_type": "stream",
     "text": [
      "AA_MutSig_QSASA\n"
     ]
    },
    {
     "name": "stderr",
     "output_type": "stream",
     "text": [
      "A column-vector y was passed when a 1d array was expected. Please change the shape of y to (n_samples, ), for example using ravel().\n"
     ]
    },
    {
     "name": "stdout",
     "output_type": "stream",
     "text": [
      "      Iter       Train Loss      OOB Improve   Remaining Time \n",
      "         1           1.3524           0.0261          288.82m\n",
      "         2           1.3308           0.0214          280.75m\n",
      "         3           1.3134           0.0176          276.54m\n",
      "         4           1.2965           0.0170          274.92m\n",
      "         5           1.2824           0.0142          273.63m\n",
      "         6           1.2702           0.0119          272.50m\n",
      "         7           1.2592           0.0111          272.07m\n",
      "         8           1.2499           0.0091          273.01m\n",
      "         9           1.2411           0.0089          278.00m\n",
      "        10           1.2343           0.0070          282.38m\n",
      "        20           1.1876           0.0030          309.06m\n",
      "        30           1.1616           0.0021          292.14m\n",
      "        40           1.1435           0.0033          266.07m\n",
      "        50           1.1321           0.0013          245.58m\n",
      "        60           1.1226           0.0009          222.50m\n",
      "        70           1.1166           0.0008          204.08m\n",
      "        80           1.1126           0.0003          188.76m\n",
      "        90           1.1093           0.0002          176.10m\n",
      "       100           1.1070           0.0004          165.53m\n"
     ]
    }
   ],
   "source": [
    "#_______________________________________    \n",
    "# AA MutSig QSASA\n",
    "print('AA_MutSig_QSASA')\n",
    "model = GradientBoostingClassifier( learning_rate = 0.1, max_depth = 6, n_iter_no_change = 3,\\\n",
    "                                    n_estimators = 500, subsample = 0.7, verbose = 1 )\n",
    "model = model.fit(X[:, [i for i in range(54)] + [57]], Y)\n",
    "with open('setup/AA_MutSig_QSASA/GBM-excludeBRCA1-PTEN.pickle', 'wb' ) as o:\n",
    "    pickle.dump( model, o )"
   ]
  },
  {
   "cell_type": "code",
   "execution_count": 29,
   "metadata": {},
   "outputs": [
    {
     "name": "stdout",
     "output_type": "stream",
     "text": [
      "AA_MutSig\n"
     ]
    },
    {
     "name": "stderr",
     "output_type": "stream",
     "text": [
      "/home/josephn/.local/lib/python3.6/site-packages/sklearn/utils/validation.py:63: DataConversionWarning: A column-vector y was passed when a 1d array was expected. Please change the shape of y to (n_samples, ), for example using ravel().\n",
      "  return f(*args, **kwargs)\n"
     ]
    },
    {
     "name": "stdout",
     "output_type": "stream",
     "text": [
      "      Iter       Train Loss      OOB Improve   Remaining Time \n",
      "         1           1.3659           0.0126          168.34m\n",
      "         2           1.3557           0.0102          168.50m\n",
      "         3           1.3467           0.0090          168.09m\n",
      "         4           1.3382           0.0084          167.76m\n",
      "         5           1.3320           0.0064          167.75m\n",
      "         6           1.3261           0.0058          167.11m\n",
      "         7           1.3178           0.0082          166.25m\n",
      "         8           1.3123           0.0056          165.86m\n",
      "         9           1.3055           0.0068          165.22m\n",
      "        10           1.2985           0.0070          164.79m\n",
      "        20           1.2620           0.0021          161.92m\n",
      "        30           1.2402           0.0015          158.81m\n",
      "        40           1.2253           0.0013          155.38m\n",
      "        50           1.2140           0.0008          151.96m\n",
      "        60           1.2082           0.0010          148.64m\n",
      "        70           1.2036           0.0007          145.30m\n",
      "        80           1.2011           0.0001          142.01m\n",
      "        90           1.1982           0.0001          138.78m\n",
      "       100           1.1960           0.0002          135.41m\n"
     ]
    }
   ],
   "source": [
    "# AA_MutSig\n",
    "print('AA_MutSig')\n",
    "model = GradientBoostingClassifier( learning_rate = 0.1, max_depth = 6, n_iter_no_change = 3,\\\n",
    "                                    n_estimators = 500, subsample = 0.7, verbose = 1 )\n",
    "model = model.fit(X[:, 0:54], Y)\n",
    "# save the model\n",
    "with open('setup/AA_MutSig/GBM-excludeBRCA1-PTEN.pickle', 'wb' ) as o:\n",
    "    pickle.dump( model, o )"
   ]
  },
  {
   "cell_type": "code",
   "execution_count": 30,
   "metadata": {},
   "outputs": [
    {
     "name": "stdout",
     "output_type": "stream",
     "text": [
      "AA only\n"
     ]
    },
    {
     "name": "stderr",
     "output_type": "stream",
     "text": [
      "/home/josephn/.local/lib/python3.6/site-packages/sklearn/utils/validation.py:63: DataConversionWarning: A column-vector y was passed when a 1d array was expected. Please change the shape of y to (n_samples, ), for example using ravel().\n",
      "  return f(*args, **kwargs)\n"
     ]
    },
    {
     "name": "stdout",
     "output_type": "stream",
     "text": [
      "      Iter       Train Loss      OOB Improve   Remaining Time \n",
      "         1           1.3662           0.0122          122.85m\n",
      "         2           1.3564           0.0099          123.12m\n",
      "         3           1.3482           0.0082          122.35m\n",
      "         4           1.3414           0.0067          122.12m\n",
      "         5           1.3355           0.0060          122.56m\n",
      "         6           1.3297           0.0058          122.39m\n",
      "         7           1.3247           0.0051          123.24m\n",
      "         8           1.3178           0.0068          122.23m\n",
      "         9           1.3136           0.0044          121.86m\n",
      "        10           1.3076           0.0059          121.02m\n",
      "        20           1.2734           0.0024          117.67m\n",
      "        30           1.2512           0.0016          115.12m\n",
      "        40           1.2343           0.0011          112.63m\n",
      "        50           1.2253           0.0004          110.33m\n",
      "        60           1.2173           0.0007          107.77m\n",
      "        70           1.2112           0.0006          105.04m\n",
      "        80           1.2066           0.0010          102.50m\n",
      "        90           1.2021           0.0004          100.02m\n",
      "       100           1.1989           0.0002           97.50m\n"
     ]
    }
   ],
   "source": [
    "# AA only\n",
    "print('AA only')\n",
    "model = GradientBoostingClassifier( learning_rate = 0.1, max_depth = 6, n_iter_no_change = 3,\\\n",
    "                                    n_estimators = 500, subsample = 0.7, verbose = 1 )\n",
    "model = model.fit(X[:, 0:40], Y)\n",
    "# save the model\n",
    "with open('setup/AA/GBM-excludeBRCA1-PTEN.pickle', 'wb' ) as o:\n",
    "    pickle.dump( model, o )"
   ]
  },
  {
   "cell_type": "code",
   "execution_count": 31,
   "metadata": {
    "scrolled": true
   },
   "outputs": [
    {
     "name": "stdout",
     "output_type": "stream",
     "text": [
      "MutSig only\n"
     ]
    },
    {
     "name": "stderr",
     "output_type": "stream",
     "text": [
      "/home/josephn/.local/lib/python3.6/site-packages/sklearn/utils/validation.py:63: DataConversionWarning: A column-vector y was passed when a 1d array was expected. Please change the shape of y to (n_samples, ), for example using ravel().\n",
      "  return f(*args, **kwargs)\n"
     ]
    },
    {
     "name": "stdout",
     "output_type": "stream",
     "text": [
      "      Iter       Train Loss      OOB Improve   Remaining Time \n",
      "         1           1.3715           0.0070           62.96m\n",
      "         2           1.3659           0.0057           61.97m\n",
      "         3           1.3614           0.0045           60.68m\n",
      "         4           1.3576           0.0037           59.53m\n",
      "         5           1.3543           0.0031           59.00m\n",
      "         6           1.3520           0.0026           58.67m\n",
      "         7           1.3498           0.0021           58.47m\n",
      "         8           1.3478           0.0017           58.18m\n",
      "         9           1.3466           0.0014           57.93m\n",
      "        10           1.3455           0.0011           57.72m\n",
      "        20           1.3395           0.0004           56.00m\n",
      "        30           1.3371           0.0001           54.91m\n",
      "        40           1.3366           0.0000           53.79m\n"
     ]
    }
   ],
   "source": [
    "# MutSig only\n",
    "print('MutSig only')\n",
    "model = GradientBoostingClassifier( learning_rate = 0.1, max_depth = 6, n_iter_no_change = 3,\\\n",
    "                                    n_estimators = 500, subsample = 0.7, verbose = 1 )\n",
    "model = model.fit(X[:, 41:54], Y)\n",
    "# save the model\n",
    "with open('setup/MutSig/GBM-excludeBRCA1-PTEN.pickle', 'wb' ) as o:\n",
    "    pickle.dump( model, o )"
   ]
  },
  {
   "cell_type": "markdown",
   "metadata": {},
   "source": [
    "## 'no-core' predictors"
   ]
  },
  {
   "cell_type": "code",
   "execution_count": 32,
   "metadata": {},
   "outputs": [
    {
     "name": "stderr",
     "output_type": "stream",
     "text": [
      "A column-vector y was passed when a 1d array was expected. Please change the shape of y to (n_samples, ), for example using ravel().\n"
     ]
    },
    {
     "name": "stdout",
     "output_type": "stream",
     "text": [
      "      Iter       Train Loss      OOB Improve   Remaining Time \n",
      "         1           1.2227           0.0177           90.87m\n",
      "         2           1.2088           0.0138           88.78m\n",
      "         3           1.1973           0.0112           87.88m\n",
      "         4           1.1885           0.0092           87.98m\n",
      "         5           1.1795           0.0080           87.89m\n",
      "         6           1.1724           0.0078           87.77m\n",
      "         7           1.1652           0.0068           87.65m\n",
      "         8           1.1591           0.0064           87.19m\n",
      "         9           1.1534           0.0054           86.96m\n",
      "        10           1.1490           0.0051           86.60m\n",
      "        20           1.1129           0.0037           84.54m\n",
      "        30           1.0936           0.0020           82.66m\n",
      "        40           1.0793           0.0010           81.06m\n",
      "        50           1.0694           0.0010           79.65m\n",
      "        60           1.0612           0.0007           79.21m\n",
      "        70           1.0571           0.0006           79.10m\n",
      "        80           1.0514           0.0005           78.49m\n",
      "        90           1.0486           0.0003           77.61m\n",
      "       100           1.0453           0.0002           76.46m\n",
      "       200           1.0313           0.0001           57.15m\n"
     ]
    },
    {
     "name": "stderr",
     "output_type": "stream",
     "text": [
      "A column-vector y was passed when a 1d array was expected. Please change the shape of y to (n_samples, ), for example using ravel().\n"
     ]
    },
    {
     "name": "stdout",
     "output_type": "stream",
     "text": [
      "      Iter       Train Loss      OOB Improve   Remaining Time \n",
      "         1           1.2269           0.0134           78.76m\n",
      "         2           1.2164           0.0104           78.85m\n",
      "         3           1.2087           0.0081           77.83m\n",
      "         4           1.2016           0.0069           77.60m\n",
      "         5           1.1961           0.0056           77.41m\n",
      "         6           1.1915           0.0046           77.40m\n",
      "         7           1.1877           0.0037           76.91m\n",
      "         8           1.1826           0.0053           76.67m\n",
      "         9           1.1768           0.0054           76.58m\n",
      "        10           1.1728           0.0040           76.53m\n",
      "        20           1.1458           0.0016           74.80m\n",
      "        30           1.1273           0.0014           72.73m\n",
      "        40           1.1178           0.0010           71.67m\n",
      "        50           1.1107           0.0008           70.20m\n",
      "        60           1.1053           0.0005           68.38m\n",
      "        70           1.1014           0.0001           66.81m\n",
      "        80           1.0992           0.0002           65.31m\n",
      "        90           1.0970           0.0002           63.56m\n",
      "       100           1.0963           0.0001           61.12m\n"
     ]
    },
    {
     "name": "stderr",
     "output_type": "stream",
     "text": [
      "A column-vector y was passed when a 1d array was expected. Please change the shape of y to (n_samples, ), for example using ravel().\n"
     ]
    },
    {
     "name": "stdout",
     "output_type": "stream",
     "text": [
      "      Iter       Train Loss      OOB Improve   Remaining Time \n",
      "         1           1.2227           0.0175           76.87m\n",
      "         2           1.2091           0.0137           77.55m\n",
      "         3           1.1984           0.0110           77.16m\n",
      "         4           1.1897           0.0092           77.40m\n",
      "         5           1.1816           0.0077           77.28m\n",
      "         6           1.1732           0.0077           77.68m\n",
      "         7           1.1671           0.0058           77.99m\n",
      "         8           1.1614           0.0061           78.20m\n",
      "         9           1.1560           0.0047           78.16m\n",
      "        10           1.1514           0.0044           77.86m\n",
      "        20           1.1157           0.0029           76.96m\n",
      "        30           1.0961           0.0023           74.88m\n",
      "        40           1.0827           0.0011           73.27m\n",
      "        50           1.0730           0.0009           71.45m\n",
      "        60           1.0678           0.0005           69.65m\n",
      "        70           1.0625           0.0002           69.67m\n",
      "        80           1.0582           0.0003           70.02m\n",
      "        90           1.0553           0.0003           69.49m\n",
      "       100           1.0536           0.0002           68.45m\n"
     ]
    },
    {
     "name": "stderr",
     "output_type": "stream",
     "text": [
      "A column-vector y was passed when a 1d array was expected. Please change the shape of y to (n_samples, ), for example using ravel().\n"
     ]
    },
    {
     "name": "stdout",
     "output_type": "stream",
     "text": [
      "      Iter       Train Loss      OOB Improve   Remaining Time \n",
      "         1           1.2268           0.0137           72.19m\n",
      "         2           1.2159           0.0106           73.82m\n",
      "         3           1.2088           0.0083           73.98m\n",
      "         4           1.2008           0.0068           72.88m\n",
      "         5           1.1949           0.0059           72.41m\n",
      "         6           1.1896           0.0062           73.05m\n",
      "         7           1.1834           0.0051           73.43m\n",
      "         8           1.1780           0.0057           73.43m\n",
      "         9           1.1734           0.0048           73.20m\n",
      "        10           1.1688           0.0038           73.31m\n",
      "        20           1.1393           0.0015           74.49m\n",
      "        30           1.1217           0.0015           75.88m\n",
      "        40           1.1097           0.0009           75.49m\n",
      "        50           1.1033           0.0008           74.80m\n",
      "        60           1.0963           0.0008           73.49m\n",
      "        70           1.0919           0.0005           72.06m\n",
      "        80           1.0887           0.0003           70.51m\n",
      "        90           1.0859           0.0001           69.08m\n",
      "       100           1.0841           0.0001           67.45m\n"
     ]
    },
    {
     "name": "stderr",
     "output_type": "stream",
     "text": [
      "A column-vector y was passed when a 1d array was expected. Please change the shape of y to (n_samples, ), for example using ravel().\n"
     ]
    },
    {
     "name": "stdout",
     "output_type": "stream",
     "text": [
      "      Iter       Train Loss      OOB Improve   Remaining Time \n",
      "         1           1.2268           0.0127           44.32m\n",
      "         2           1.2184           0.0098           44.20m\n",
      "         3           1.2101           0.0079           43.78m\n",
      "         4           1.2037           0.0063           43.74m\n",
      "         5           1.1988           0.0051           43.40m\n",
      "         6           1.1935           0.0049           43.24m\n",
      "         7           1.1895           0.0041           43.29m\n",
      "         8           1.1858           0.0036           43.29m\n",
      "         9           1.1826           0.0030           43.32m\n",
      "        10           1.1796           0.0030           43.44m\n",
      "        20           1.1510           0.0022           41.79m\n",
      "        30           1.1346           0.0017           40.79m\n",
      "        40           1.1225           0.0005           39.78m\n",
      "        50           1.1165           0.0005           39.25m\n",
      "        60           1.1100           0.0005           38.81m\n",
      "        70           1.1060           0.0005           37.85m\n",
      "        80           1.1027           0.0004           36.99m\n",
      "        90           1.1005           0.0002           36.13m\n",
      "       100           1.0989           0.0001           35.27m\n"
     ]
    },
    {
     "name": "stderr",
     "output_type": "stream",
     "text": [
      "A column-vector y was passed when a 1d array was expected. Please change the shape of y to (n_samples, ), for example using ravel().\n"
     ]
    },
    {
     "name": "stdout",
     "output_type": "stream",
     "text": [
      "      Iter       Train Loss      OOB Improve   Remaining Time \n",
      "         1           1.2337           0.0064           28.49m\n",
      "         2           1.2292           0.0051           28.78m\n",
      "         3           1.2246           0.0045           28.22m\n",
      "         4           1.2213           0.0034           28.00m\n",
      "         5           1.2170           0.0031           27.69m\n",
      "         6           1.2153           0.0023           27.78m\n",
      "         7           1.2129           0.0022           27.58m\n",
      "         8           1.2118           0.0019           27.74m\n",
      "         9           1.2097           0.0015           27.71m\n",
      "        10           1.2083           0.0013           27.87m\n",
      "        20           1.2026           0.0003           27.26m\n",
      "        30           1.2001           0.0001           26.42m\n",
      "        40           1.1988           0.0000           26.09m\n"
     ]
    }
   ],
   "source": [
    "with open('human_protein_predictions/EVmutation_human_protein_predictions_collapsed_annotated_excludedBRCA1-PTEN.pickle', 'rb') as r:\n",
    "    X, Y = pickle.load(r)\n",
    "Y = np.array(Y < -5, dtype=int)\n",
    "\n",
    "# remove anything with Q(SASA) < 0.15\n",
    "surface = X[:, -1] >= 0.15\n",
    "X = X[surface, :]\n",
    "Y = Y[surface]\n",
    "\n",
    "# now train the actual model\n",
    "model = GradientBoostingClassifier( learning_rate = 0.1, max_depth = 6, n_iter_no_change = 3,\\\n",
    "                                    n_estimators = 500, subsample = 0.7, verbose = 1 )\n",
    "model = model.fit(X, Y)\n",
    "with open('setup/AA_Cons_MutSig_QSASA/GBM-excludeBRCA1-PTEN_no-core.pickle', 'wb' ) as o:\n",
    "    pickle.dump( model, o )\n",
    "\n",
    "#_______________________________________    \n",
    "# AA + MutSig\n",
    "model = GradientBoostingClassifier( learning_rate = 0.1, max_depth = 6, n_iter_no_change = 3,\\\n",
    "                                    n_estimators = 500, subsample = 0.7, verbose = 1 )\n",
    "model = model.fit(X[:, 0:54], Y)\n",
    "with open('setup/AA_MutSig/GBM-excludeBRCA1-PTEN_no-core.pickle', 'wb' ) as o:\n",
    "    pickle.dump( model, o )\n",
    "\n",
    "#_______________________________________    \n",
    "# AA + Cons + MutSig\n",
    "model = GradientBoostingClassifier( learning_rate = 0.1, max_depth = 6, n_iter_no_change = 3,\\\n",
    "                                    n_estimators = 500, subsample = 0.7, verbose = 1 )\n",
    "model = model.fit(X[:, 0:57], Y)\n",
    "with open('setup/AA_Cons_MutSig/GBM-excludeBRCA1-PTEN_no-core.pickle', 'wb' ) as o:\n",
    "    pickle.dump( model, o )\n",
    "\n",
    "#_______________________________________    \n",
    "# AA MutSig QSASA\n",
    "model = GradientBoostingClassifier( learning_rate = 0.1, max_depth = 6, n_iter_no_change = 3,\\\n",
    "                                    n_estimators = 500, subsample = 0.7, verbose = 1 )\n",
    "model = model.fit(X[:, [i for i in range(54)] + [57]], Y)\n",
    "with open('setup/AA_MutSig_QSASA/GBM-excludeBRCA1-PTEN_no-core.pickle', 'wb' ) as o:\n",
    "    pickle.dump( model, o )\n",
    "\n",
    "#_______________________________________    \n",
    "# AA only\n",
    "model = GradientBoostingClassifier( learning_rate = 0.1, max_depth = 6, n_iter_no_change = 3,\\\n",
    "                                    n_estimators = 500, subsample = 0.7, verbose = 1 )\n",
    "model = model.fit(X[:, 0:40], Y)\n",
    "with open('setup/AA/GBM-excludeBRCA1-PTEN_no-core.pickle', 'wb' ) as o:\n",
    "    pickle.dump( model, o )\n",
    "\n",
    "#_______________________________________    \n",
    "# MutSig only\n",
    "model = GradientBoostingClassifier( learning_rate = 0.1, max_depth = 6, n_iter_no_change = 3,\\\n",
    "                                    n_estimators = 500, subsample = 0.7, verbose = 1 )\n",
    "model = model.fit(X[:, 41:54], Y)\n",
    "with open('setup/MutSig/GBM-excludeBRCA1-PTEN_no-core.pickle', 'wb' ) as o:\n",
    "    pickle.dump( model, o )\n"
   ]
  },
  {
   "cell_type": "markdown",
   "metadata": {},
   "source": [
    "## Independent benchmark\n",
    "\n",
    "1. Loss-of-function and Functional variants as annotated by BRCA1 DMS experiment ([Findlay et al Nature 2018](https://www.nature.com/articles/s41586-018-0461-z))"
   ]
  },
  {
   "cell_type": "code",
   "execution_count": 33,
   "metadata": {},
   "outputs": [
    {
     "name": "stdout",
     "output_type": "stream",
     "text": [
      "AA_Cons_MutSig_QSASA :: Accuracy =  0.8045197740112995 , F1-score =  0.6418219461697723 , ROC-AUC =  0.8495370962379478\n",
      "AA_Cons_MutSig       :: Accuracy =  0.7627118644067796 , F1-score =  0.5248868778280542 , ROC-AUC =  0.7758049666248945\n",
      "AA_MutSig_QSASA      :: Accuracy =  0.7593220338983051 , F1-score =  0.6216696269982239 , ROC-AUC =  0.8477340732973582\n",
      "AA_MutSig            :: Accuracy =  0.7412429378531074 , F1-score =  0.5638095238095238 , ROC-AUC =  0.7605783739546303\n",
      "AA only              :: Accuracy =  0.7423728813559322 , F1-score =  0.569811320754717 , ROC-AUC =  0.768004654612414\n",
      "MutSig only          :: Accuracy =  0.63954802259887 , F1-score =  0.2989010989010989 , ROC-AUC =  0.5552479476228228\n",
      "\n",
      "'no-core' predictors:\n",
      "\n",
      "AA_Cons_MutSig_QSASA :: Accuracy =  0.7446327683615819 , F1-score =  0.3891891891891892 , ROC-AUC =  0.7721541648551189\n",
      "AA_Cons_MutSig       :: Accuracy =  0.7310734463276836 , F1-score =  0.22727272727272724 , ROC-AUC =  0.7076481419912535\n",
      "AA_MutSig_QSASA      :: Accuracy =  0.7728813559322034 , F1-score =  0.5620915032679739 , ROC-AUC =  0.7915238740697168\n",
      "AA_MutSig            :: Accuracy =  0.7288135593220338 , F1-score =  0.33701657458563533 , ROC-AUC =  0.7073252602235237\n",
      "AA only              :: Accuracy =  0.7209039548022599 , F1-score =  0.3195592286501377 , ROC-AUC =  0.716560957520268\n",
      "MutSig only          :: Accuracy =  0.7197740112994351 , F1-score =  0.04615384615384615 , ROC-AUC =  0.5185545126723101\n"
     ]
    }
   ],
   "source": [
    "with open('setup/AA_Cons_MutSig_QSASA/GBM-excludeBRCA1-PTEN.pickle', 'rb' ) as r:\n",
    "    model = pickle.load( r )\n",
    "with open('human_protein_predictions/BRCA_DMS_annotated.pickle', 'rb') as r:\n",
    "    X_test, Y_test = pickle.load(r)\n",
    "print('AA_Cons_MutSig_QSASA :: Accuracy = ', model.score( X_test, Y_test ), \\\n",
    "      \", F1-score = \", sklearn.metrics.f1_score(Y_test, model.predict( X_test ), average='binary'), \\\n",
    "      \", ROC-AUC = \", sklearn.metrics.roc_auc_score(Y_test, model.predict_proba( X_test )[:, 1]))\n",
    "roc = getROCcurve( model, X_test, Y_test, 'EVmutation (exclude BRCA1 & PTEN)', 'BRCA1 DMS', 'AA + Cons + MutSig + Q(SASA)', 'all variants')\n",
    "roc.to_csv('roc_curves_all.csv', header=True, index=False, mode = 'a')\n",
    "\n",
    "with open('setup/AA_Cons_MutSig/GBM-excludeBRCA1-PTEN.pickle', 'rb' ) as r:\n",
    "    model = pickle.load( r )\n",
    "print('AA_Cons_MutSig       :: Accuracy = ', model.score( X_test[:, 0:57], Y_test ), \\\n",
    "      \", F1-score = \", sklearn.metrics.f1_score(Y_test, model.predict( X_test[:, 0:57], ), average='binary'), \\\n",
    "      \", ROC-AUC = \", sklearn.metrics.roc_auc_score(Y_test, model.predict_proba( X_test[:, 0:57] )[:, 1]))\n",
    "roc = getROCcurve( model, X_test[:, 0:57], Y_test, 'EVmutation (exclude BRCA1 & PTEN)', 'BRCA1 DMS', 'AA + Cons + MutSig', 'all variants')\n",
    "roc.to_csv('roc_curves_all.csv', header=True, index=False, mode = 'a')\n",
    "\n",
    "with open('setup/AA_MutSig_QSASA/GBM-excludeBRCA1-PTEN.pickle', 'rb' ) as r:\n",
    "    model = pickle.load( r )\n",
    "print('AA_MutSig_QSASA      :: Accuracy = ', model.score( X_test[:, [i for i in range(54)] + [57]], Y_test ), \\\n",
    "      \", F1-score = \", sklearn.metrics.f1_score(Y_test, model.predict( X_test[:, [i for i in range(54)] + [57]] ), average='binary'), \\\n",
    "      \", ROC-AUC = \", sklearn.metrics.roc_auc_score(Y_test, model.predict_proba( X_test[:, [i for i in range(54)] + [57]] )[:, 1]))\n",
    "roc = getROCcurve( model, X_test[:, [i for i in range(54)] + [57]], Y_test, 'EVmutation (exclude BRCA1 & PTEN)', \\\n",
    "                  'BRCA1 DMS', 'AA + MutSig + Q(SASA)', 'all variants')\n",
    "roc.to_csv('roc_curves_all.csv', header=True, index=False, mode = 'a')\n",
    "\n",
    "with open('setup/AA_MutSig/GBM-excludeBRCA1-PTEN.pickle', 'rb' ) as r:\n",
    "    model = pickle.load( r )\n",
    "print('AA_MutSig            :: Accuracy = ', model.score( X_test[:, 0:54], Y_test ), \\\n",
    "      \", F1-score = \", sklearn.metrics.f1_score(Y_test, model.predict( X_test[:, 0:54] ), average='binary'), \\\n",
    "      \", ROC-AUC = \", sklearn.metrics.roc_auc_score(Y_test, model.predict_proba( X_test[:, 0:54] )[:, 1]))\n",
    "roc = getROCcurve( model, X_test[:, 0:54], Y_test, 'EVmutation (exclude BRCA1 & PTEN)', 'BRCA1 DMS', 'AA + MutSig', 'all variants')\n",
    "roc.to_csv('roc_curves_all.csv', header=True, index=False, mode = 'a')\n",
    "\n",
    "with open('setup/AA/GBM-excludeBRCA1-PTEN.pickle', 'rb' ) as r:\n",
    "    model = pickle.load( r )\n",
    "print('AA only              :: Accuracy = ', model.score( X_test[:, 0:40], Y_test ), \\\n",
    "      \", F1-score = \", sklearn.metrics.f1_score(Y_test, model.predict( X_test[:, 0:40] ), average='binary'), \\\n",
    "      \", ROC-AUC = \", sklearn.metrics.roc_auc_score(Y_test, model.predict_proba( X_test[:, 0:40] )[:, 1]))\n",
    "roc = getROCcurve( model, X_test[:, 0:40], Y_test, 'EVmutation (exclude BRCA1 & PTEN)', 'BRCA1 DMS', 'AA only', 'all variants')\n",
    "roc.to_csv('roc_curves_all.csv', header=True, index=False, mode = 'a')\n",
    "\n",
    "with open('setup/MutSig/GBM-excludeBRCA1-PTEN.pickle', 'rb' ) as r:\n",
    "    model = pickle.load( r )\n",
    "print('MutSig only          :: Accuracy = ', model.score( X_test[:, 41:54], Y_test ), \\\n",
    "      \", F1-score = \", sklearn.metrics.f1_score(Y_test, model.predict( X_test[:, 41:54] ), average='binary'), \\\n",
    "      \", ROC-AUC = \", sklearn.metrics.roc_auc_score(Y_test, model.predict_proba( X_test[:, 41:54] )[:, 1]))\n",
    "roc = getROCcurve( model, X_test[:, 41:54], Y_test, 'EVmutation (exclude BRCA1 & PTEN)', 'BRCA1 DMS', 'MutSig only', 'all variants')\n",
    "roc.to_csv('roc_curves_all.csv', header=True, index=False, mode = 'a')\n",
    "\n",
    "#________________________________\n",
    "# no-core predictors\n",
    "print(\"\\n'no-core' predictors:\\n\")\n",
    "with open('setup/AA_Cons_MutSig_QSASA/GBM-excludeBRCA1-PTEN_no-core.pickle', 'rb' ) as r:\n",
    "    model = pickle.load( r )\n",
    "print('AA_Cons_MutSig_QSASA :: Accuracy = ', model.score( X_test, Y_test ), \\\n",
    "      \", F1-score = \", sklearn.metrics.f1_score(Y_test, model.predict( X_test ), average='binary'), \\\n",
    "      \", ROC-AUC = \", sklearn.metrics.roc_auc_score(Y_test, model.predict_proba( X_test )[:, 1]))\n",
    "roc = getROCcurve( model, X_test, Y_test, 'EVmutation (exclude BRCA1 & PTEN)', 'BRCA1 DMS', 'AA + Cons + MutSig + Q(SASA)', 'no-core')\n",
    "roc.to_csv('roc_curves_all.csv', header=True, index=False, mode = 'a')\n",
    "\n",
    "with open('setup/AA_Cons_MutSig/GBM-excludeBRCA1-PTEN_no-core.pickle', 'rb' ) as r:\n",
    "    model = pickle.load( r )\n",
    "print('AA_Cons_MutSig       :: Accuracy = ', model.score( X_test[:, 0:57], Y_test ), \\\n",
    "      \", F1-score = \", sklearn.metrics.f1_score(Y_test, model.predict( X_test[:, 0:57], ), average='binary'), \\\n",
    "      \", ROC-AUC = \", sklearn.metrics.roc_auc_score(Y_test, model.predict_proba( X_test[:, 0:57] )[:, 1]))\n",
    "roc = getROCcurve( model, X_test[:, 0:57], Y_test, 'EVmutation (exclude BRCA1 & PTEN)', 'BRCA1 DMS', 'AA + Cons + MutSig', 'no-core')\n",
    "roc.to_csv('roc_curves_all.csv', header=True, index=False, mode = 'a')\n",
    "\n",
    "with open('setup/AA_MutSig_QSASA/GBM-excludeBRCA1-PTEN_no-core.pickle', 'rb' ) as r:\n",
    "    model = pickle.load( r )\n",
    "print('AA_MutSig_QSASA      :: Accuracy = ', model.score( X_test[:, [i for i in range(54)] + [57]], Y_test ), \\\n",
    "      \", F1-score = \", sklearn.metrics.f1_score(Y_test, model.predict( X_test[:, [i for i in range(54)] + [57]] ), average='binary'), \\\n",
    "      \", ROC-AUC = \", sklearn.metrics.roc_auc_score(Y_test, model.predict_proba( X_test[:, [i for i in range(54)] + [57]] )[:, 1]))\n",
    "roc = getROCcurve( model, X_test[:, [i for i in range(54)] + [57]], Y_test, 'EVmutation (exclude BRCA1 & PTEN)', 'BRCA1 DMS', 'AA + MutSig + Q(SASA)', 'no-core')\n",
    "roc.to_csv('roc_curves_all.csv', header=True, index=False, mode = 'a')\n",
    "\n",
    "with open('setup/AA_MutSig/GBM-excludeBRCA1-PTEN_no-core.pickle', 'rb' ) as r:\n",
    "    model = pickle.load( r )\n",
    "print('AA_MutSig            :: Accuracy = ', model.score( X_test[:, 0:54], Y_test ), \\\n",
    "      \", F1-score = \", sklearn.metrics.f1_score(Y_test, model.predict( X_test[:, 0:54] ), average='binary'), \\\n",
    "      \", ROC-AUC = \", sklearn.metrics.roc_auc_score(Y_test, model.predict_proba( X_test[:, 0:54] )[:, 1]))\n",
    "roc = getROCcurve( model, X_test[:, 0:54], Y_test, 'EVmutation (exclude BRCA1 & PTEN)', 'BRCA1 DMS', 'AA + MutSig', 'no-core')\n",
    "roc.to_csv('roc_curves_all.csv', header=True, index=False, mode = 'a')\n",
    "\n",
    "with open('setup/AA/GBM-excludeBRCA1-PTEN_no-core.pickle', 'rb' ) as r:\n",
    "    model = pickle.load( r )\n",
    "print('AA only              :: Accuracy = ', model.score( X_test[:, 0:40], Y_test ), \\\n",
    "      \", F1-score = \", sklearn.metrics.f1_score(Y_test, model.predict( X_test[:, 0:40] ), average='binary'), \\\n",
    "      \", ROC-AUC = \", sklearn.metrics.roc_auc_score(Y_test, model.predict_proba( X_test[:, 0:40] )[:, 1]))\n",
    "roc = getROCcurve( model, X_test[:, 0:40], Y_test, 'EVmutation (exclude BRCA1 & PTEN)', 'BRCA1 DMS', 'AA only', 'no-core')\n",
    "roc.to_csv('roc_curves_all.csv', header=True, index=False, mode = 'a')\n",
    "\n",
    "with open('setup/MutSig/GBM-excludeBRCA1-PTEN_no-core.pickle', 'rb' ) as r:\n",
    "    model = pickle.load( r )\n",
    "print('MutSig only          :: Accuracy = ', model.score( X_test[:, 41:54], Y_test ), \\\n",
    "      \", F1-score = \", sklearn.metrics.f1_score(Y_test, model.predict( X_test[:, 41:54] ), average='binary'), \\\n",
    "      \", ROC-AUC = \", sklearn.metrics.roc_auc_score(Y_test, model.predict_proba( X_test[:, 41:54] )[:, 1]))\n",
    "roc = getROCcurve( model, X_test[:, 41:54], Y_test, 'EVmutation (exclude BRCA1 & PTEN)', 'BRCA1 DMS', 'MutSig only', 'no-core')\n",
    "roc.to_csv('roc_curves_all.csv', header=True, index=False, mode = 'a')\n",
    "\n"
   ]
  },
  {
   "cell_type": "markdown",
   "metadata": {},
   "source": [
    "2. PTEN variant abundance DMS experiment "
   ]
  },
  {
   "cell_type": "code",
   "execution_count": 34,
   "metadata": {},
   "outputs": [
    {
     "name": "stdout",
     "output_type": "stream",
     "text": [
      "AA_Cons_MutSig_QSASA :: Accuracy =  0.6832579185520362 , F1-score =  0.732824427480916 , ROC-AUC =  0.7511494252873564\n",
      "AA_Cons_MutSig       :: Accuracy =  0.6153846153846154 , F1-score =  0.6718146718146719 , ROC-AUC =  0.7202791461412151\n",
      "AA_MutSig_QSASA      :: Accuracy =  0.665158371040724 , F1-score =  0.6782608695652174 , ROC-AUC =  0.7644909688013136\n",
      "AA_MutSig            :: Accuracy =  0.6832579185520362 , F1-score =  0.669811320754717 , ROC-AUC =  0.744376026272578\n",
      "AA only              :: Accuracy =  0.665158371040724 , F1-score =  0.6574074074074073 , ROC-AUC =  0.7422413793103448\n",
      "MutSig only          :: Accuracy =  0.502262443438914 , F1-score =  0.375 , ROC-AUC =  0.5406403940886699\n",
      "\n",
      "\n",
      "'no-core' predictors:\n",
      "\n",
      "AA_Cons_MutSig_QSASA :: Accuracy =  0.6380090497737556 , F1-score =  0.6638655462184874 , ROC-AUC =  0.723152709359606\n",
      "AA_Cons_MutSig       :: Accuracy =  0.6108597285067874 , F1-score =  0.5981308411214952 , ROC-AUC =  0.7063218390804598\n",
      "AA_MutSig_QSASA      :: Accuracy =  0.6063348416289592 , F1-score =  0.5492227979274611 , ROC-AUC =  0.725615763546798\n",
      "AA_MutSig            :: Accuracy =  0.5656108597285068 , F1-score =  0.36 , ROC-AUC =  0.7039819376026273\n",
      "AA only              :: Accuracy =  0.5746606334841629 , F1-score =  0.38961038961038963 , ROC-AUC =  0.7010262725779968\n",
      "MutSig only          :: Accuracy =  0.48868778280542985 , F1-score =  0.06611570247933884 , ROC-AUC =  0.5096059113300493\n"
     ]
    }
   ],
   "source": [
    "with open('setup/AA_Cons_MutSig_QSASA/GBM-excludeBRCA1-PTEN.pickle', 'rb' ) as r:\n",
    "    model = pickle.load( r )\n",
    "with open('human_protein_predictions/PTEN_stability_DMS_annotated.pickle', 'rb') as r:\n",
    "    X_test, Y_test = pickle.load(r)\n",
    "print('AA_Cons_MutSig_QSASA :: Accuracy = ', model.score( X_test, Y_test ), \\\n",
    "      \", F1-score = \", sklearn.metrics.f1_score(Y_test, model.predict( X_test ), average='binary'), \\\n",
    "      \", ROC-AUC = \", sklearn.metrics.roc_auc_score(Y_test, model.predict_proba( X_test )[:, 1]))\n",
    "roc = getROCcurve( model, X_test, Y_test, 'EVmutation (exclude BRCA1 & PTEN)', 'PTEN abundance DMS', 'AA + Cons + MutSig + Q(SASA)', 'all variants')\n",
    "roc.to_csv('roc_curves_all.csv', header=True, index=False, mode = 'a')\n",
    "\n",
    "with open('setup/AA_Cons_MutSig/GBM-excludeBRCA1-PTEN.pickle', 'rb' ) as r:\n",
    "    model = pickle.load( r )\n",
    "print('AA_Cons_MutSig       :: Accuracy = ', model.score( X_test[:, 0:57], Y_test ), \\\n",
    "      \", F1-score = \", sklearn.metrics.f1_score(Y_test, model.predict( X_test[:, 0:57], ), average='binary'), \\\n",
    "      \", ROC-AUC = \", sklearn.metrics.roc_auc_score(Y_test, model.predict_proba( X_test[:, 0:57] )[:, 1]))\n",
    "roc = getROCcurve( model, X_test[:, 0:57], Y_test, 'EVmutation (exclude BRCA1 & PTEN)', 'PTEN abundance DMS', 'AA + Cons + MutSig', 'all variants')\n",
    "roc.to_csv('roc_curves_all.csv', header=True, index=False, mode = 'a')\n",
    "\n",
    "with open('setup/AA_MutSig_QSASA/GBM-excludeBRCA1-PTEN.pickle', 'rb' ) as r:\n",
    "    model = pickle.load( r )\n",
    "print('AA_MutSig_QSASA      :: Accuracy = ', model.score( X_test[:, [i for i in range(54)] + [57]], Y_test ), \\\n",
    "      \", F1-score = \", sklearn.metrics.f1_score(Y_test, model.predict( X_test[:, [i for i in range(54)] + [57]] ), average='binary'), \\\n",
    "      \", ROC-AUC = \", sklearn.metrics.roc_auc_score(Y_test, model.predict_proba( X_test[:, [i for i in range(54)] + [57]] )[:, 1]))\n",
    "roc = getROCcurve( model, X_test[:, [i for i in range(54)] + [57]], Y_test, 'EVmutation (exclude BRCA1 & PTEN)', 'PTEN abundance DMS', 'AA + MutSig + Q(SASA)', 'all variants')\n",
    "roc.to_csv('roc_curves_all.csv', header=True, index=False, mode = 'a')\n",
    "\n",
    "with open('setup/AA_MutSig/GBM-excludeBRCA1-PTEN.pickle', 'rb' ) as r:\n",
    "    model = pickle.load( r )\n",
    "print('AA_MutSig            :: Accuracy = ', model.score( X_test[:, 0:54], Y_test ), \\\n",
    "      \", F1-score = \", sklearn.metrics.f1_score(Y_test, model.predict( X_test[:, 0:54] ), average='binary'), \\\n",
    "      \", ROC-AUC = \", sklearn.metrics.roc_auc_score(Y_test, model.predict_proba( X_test[:, 0:54] )[:, 1]))\n",
    "roc = getROCcurve( model, X_test[:, 0:54], Y_test, 'EVmutation (exclude BRCA1 & PTEN)', 'PTEN abundance DMS', 'AA + MutSig', 'all variants')\n",
    "roc.to_csv('roc_curves_all.csv', header=True, index=False, mode = 'a')\n",
    "\n",
    "with open('setup/AA/GBM-excludeBRCA1-PTEN.pickle', 'rb' ) as r:\n",
    "    model = pickle.load( r )\n",
    "print('AA only              :: Accuracy = ', model.score( X_test[:, 0:40], Y_test ), \\\n",
    "      \", F1-score = \", sklearn.metrics.f1_score(Y_test, model.predict( X_test[:, 0:40] ), average='binary'), \\\n",
    "      \", ROC-AUC = \", sklearn.metrics.roc_auc_score(Y_test, model.predict_proba( X_test[:, 0:40] )[:, 1]))\n",
    "roc = getROCcurve( model, X_test[:, 0:40], Y_test, 'EVmutation (exclude BRCA1 & PTEN)', 'PTEN abundance DMS', 'AA only', 'all variants')\n",
    "roc.to_csv('roc_curves_all.csv', header=True, index=False, mode = 'a')\n",
    "\n",
    "with open('setup/MutSig/GBM-excludeBRCA1-PTEN.pickle', 'rb' ) as r:\n",
    "    model = pickle.load( r )\n",
    "print('MutSig only          :: Accuracy = ', model.score( X_test[:, 41:54], Y_test ), \\\n",
    "      \", F1-score = \", sklearn.metrics.f1_score(Y_test, model.predict( X_test[:, 41:54] ), average='binary'), \\\n",
    "      \", ROC-AUC = \", sklearn.metrics.roc_auc_score(Y_test, model.predict_proba( X_test[:, 41:54] )[:, 1]))\n",
    "roc = getROCcurve( model, X_test[:, 41:54], Y_test, 'EVmutation (exclude BRCA1 & PTEN)', 'PTEN abundance DMS', 'MutSig only', 'all variants')\n",
    "roc.to_csv('roc_curves_all.csv', header=True, index=False, mode = 'a')\n",
    "\n",
    "#________________________________\n",
    "# no-core predictors\n",
    "print(\"\\n\\n'no-core' predictors:\\n\")\n",
    "with open('setup/AA_Cons_MutSig_QSASA/GBM-excludeBRCA1-PTEN_no-core.pickle', 'rb' ) as r:\n",
    "    model = pickle.load( r )\n",
    "print('AA_Cons_MutSig_QSASA :: Accuracy = ', model.score( X_test, Y_test ), \\\n",
    "      \", F1-score = \", sklearn.metrics.f1_score(Y_test, model.predict( X_test ), average='binary'), \\\n",
    "      \", ROC-AUC = \", sklearn.metrics.roc_auc_score(Y_test, model.predict_proba( X_test )[:, 1]))\n",
    "roc = getROCcurve( model, X_test, Y_test, 'EVmutation (exclude BRCA1 & PTEN)', 'PTEN abundance DMS', 'AA + Cons + MutSig + Q(SASA)', 'no-core')\n",
    "roc.to_csv('roc_curves_all.csv', header=True, index=False, mode = 'a')\n",
    "\n",
    "with open('setup/AA_Cons_MutSig/GBM-excludeBRCA1-PTEN_no-core.pickle', 'rb' ) as r:\n",
    "    model = pickle.load( r )\n",
    "print('AA_Cons_MutSig       :: Accuracy = ', model.score( X_test[:, 0:57], Y_test ), \\\n",
    "      \", F1-score = \", sklearn.metrics.f1_score(Y_test, model.predict( X_test[:, 0:57], ), average='binary'), \\\n",
    "      \", ROC-AUC = \", sklearn.metrics.roc_auc_score(Y_test, model.predict_proba( X_test[:, 0:57] )[:, 1]))\n",
    "roc = getROCcurve( model, X_test[:, 0:57], Y_test, 'EVmutation (exclude BRCA1 & PTEN)', 'PTEN abundance DMS', 'AA + Cons + MutSig', 'no-core')\n",
    "roc.to_csv('roc_curves_all.csv', header=True, index=False, mode = 'a')\n",
    "\n",
    "with open('setup/AA_MutSig_QSASA/GBM-excludeBRCA1-PTEN_no-core.pickle', 'rb' ) as r:\n",
    "    model = pickle.load( r )\n",
    "print('AA_MutSig_QSASA      :: Accuracy = ', model.score( X_test[:, [i for i in range(54)] + [57]], Y_test ), \\\n",
    "      \", F1-score = \", sklearn.metrics.f1_score(Y_test, model.predict( X_test[:, [i for i in range(54)] + [57]] ), average='binary'), \\\n",
    "      \", ROC-AUC = \", sklearn.metrics.roc_auc_score(Y_test, model.predict_proba( X_test[:, [i for i in range(54)] + [57]] )[:, 1]))\n",
    "roc = getROCcurve( model, X_test[:, [i for i in range(54)] + [57]], Y_test, 'EVmutation', \\\n",
    "                  'PTEN abundance DMS', 'AA + MutSig + Q(SASA)', 'no-core')\n",
    "roc.to_csv('roc_curves_all.csv', header=True, index=False, mode = 'a')\n",
    "\n",
    "with open('setup/AA_MutSig/GBM-excludeBRCA1-PTEN_no-core.pickle', 'rb' ) as r:\n",
    "    model = pickle.load( r )\n",
    "print('AA_MutSig            :: Accuracy = ', model.score( X_test[:, 0:54], Y_test ), \\\n",
    "      \", F1-score = \", sklearn.metrics.f1_score(Y_test, model.predict( X_test[:, 0:54] ), average='binary'), \\\n",
    "      \", ROC-AUC = \", sklearn.metrics.roc_auc_score(Y_test, model.predict_proba( X_test[:, 0:54] )[:, 1]))\n",
    "roc = getROCcurve( model, X_test[:, 0:54], Y_test, 'EVmutation (exclude BRCA1 & PTEN)', 'PTEN abundance DMS', 'AA + MutSig', 'no-core')\n",
    "roc.to_csv('roc_curves_all.csv', header=True, index=False, mode = 'a')\n",
    "\n",
    "with open('setup/AA/GBM-excludeBRCA1-PTEN_no-core.pickle', 'rb' ) as r:\n",
    "    model = pickle.load( r )\n",
    "print('AA only              :: Accuracy = ', model.score( X_test[:, 0:40], Y_test ), \\\n",
    "      \", F1-score = \", sklearn.metrics.f1_score(Y_test, model.predict( X_test[:, 0:40] ), average='binary'), \\\n",
    "      \", ROC-AUC = \", sklearn.metrics.roc_auc_score(Y_test, model.predict_proba( X_test[:, 0:40] )[:, 1]))\n",
    "roc = getROCcurve( model, X_test[:, 0:40], Y_test, 'EVmutation (exclude BRCA1 & PTEN)', 'PTEN abundance DMS', 'AA only', 'no-core')\n",
    "roc.to_csv('roc_curves_all.csv', header=True, index=False, mode = 'a')\n",
    "\n",
    "with open('setup/MutSig/GBM-excludeBRCA1-PTEN_no-core.pickle', 'rb' ) as r:\n",
    "    model = pickle.load( r )\n",
    "print('MutSig only          :: Accuracy = ', model.score( X_test[:, 41:54], Y_test ), \\\n",
    "      \", F1-score = \", sklearn.metrics.f1_score(Y_test, model.predict( X_test[:, 41:54] ), average='binary'), \\\n",
    "      \", ROC-AUC = \", sklearn.metrics.roc_auc_score(Y_test, model.predict_proba( X_test[:, 41:54] )[:, 1]))\n",
    "roc = getROCcurve( model, X_test[:, 41:54], Y_test, 'EVmutation (exclude BRCA1 & PTEN)', 'PTEN abundance DMS', 'MutSig only', 'no-core')\n",
    "roc.to_csv('roc_curves_all.csv', header=True, index=False, mode = 'a')\n",
    "\n"
   ]
  },
  {
   "cell_type": "markdown",
   "metadata": {},
   "source": [
    "3. PTEN activity DMS experiment using a phosphatase essay"
   ]
  },
  {
   "cell_type": "code",
   "execution_count": 35,
   "metadata": {},
   "outputs": [
    {
     "name": "stdout",
     "output_type": "stream",
     "text": [
      "AA_Cons_MutSig_QSASA :: Accuracy =  0.6162790697674418 , F1-score =  0.5864661654135338 , ROC-AUC =  0.8200530212084833\n",
      "AA_Cons_MutSig       :: Accuracy =  0.6162790697674418 , F1-score =  0.5965770171149144 , ROC-AUC =  0.798031712685074\n",
      "AA_MutSig_QSASA      :: Accuracy =  0.7162790697674418 , F1-score =  0.6411764705882352 , ROC-AUC =  0.8150510204081634\n",
      "AA_MutSig            :: Accuracy =  0.7255813953488373 , F1-score =  0.6168831168831169 , ROC-AUC =  0.7867146858743497\n",
      "AA only              :: Accuracy =  0.7116279069767442 , F1-score =  0.6050955414012739 , ROC-AUC =  0.7881902761104441\n",
      "MutSig only          :: Accuracy =  0.6255813953488372 , F1-score =  0.3534136546184739 , ROC-AUC =  0.5903861544617849\n",
      "\n",
      "\n",
      "'no-core' predictors:\n",
      "\n",
      "AA_Cons_MutSig_QSASA :: Accuracy =  0.672093023255814 , F1-score =  0.6178861788617886 , ROC-AUC =  0.7706957783113246\n",
      "AA_Cons_MutSig       :: Accuracy =  0.7209302325581395 , F1-score =  0.6226415094339622 , ROC-AUC =  0.7820003001200481\n",
      "AA_MutSig_QSASA      :: Accuracy =  0.7186046511627907 , F1-score =  0.56 , ROC-AUC =  0.7496748699479794\n",
      "AA_MutSig            :: Accuracy =  0.7116279069767442 , F1-score =  0.3861386138613861 , ROC-AUC =  0.7463735494197679\n",
      "AA only              :: Accuracy =  0.7093023255813954 , F1-score =  0.4019138755980861 , ROC-AUC =  0.7451480592236895\n",
      "MutSig only          :: Accuracy =  0.6813953488372093 , F1-score =  0.06802721088435375 , ROC-AUC =  0.5560224089635855\n"
     ]
    }
   ],
   "source": [
    "with open('setup/AA_Cons_MutSig_QSASA/GBM-excludeBRCA1-PTEN.pickle', 'rb' ) as r:\n",
    "    model = pickle.load( r )\n",
    "with open('human_protein_predictions/PTEN_activity_DMS_annotated.pickle', 'rb') as r:\n",
    "    X_test, Y_test = pickle.load(r)\n",
    "print('AA_Cons_MutSig_QSASA :: Accuracy = ', model.score( X_test, Y_test ), \\\n",
    "      \", F1-score = \", sklearn.metrics.f1_score(Y_test, model.predict( X_test ), average='binary'), \\\n",
    "      \", ROC-AUC = \", sklearn.metrics.roc_auc_score(Y_test, model.predict_proba( X_test )[:, 1]))\n",
    "roc = getROCcurve( model, X_test, Y_test, 'EVmutation (exclude BRCA1 & PTEN)', 'PTEN activity DMS', 'AA + Cons + MutSig + Q(SASA)', 'all variants')\n",
    "roc.to_csv('roc_curves_all.csv', header=True, index=False, mode = 'a')\n",
    "\n",
    "with open('setup/AA_Cons_MutSig/GBM-excludeBRCA1-PTEN.pickle', 'rb' ) as r:\n",
    "    model = pickle.load( r )\n",
    "print('AA_Cons_MutSig       :: Accuracy = ', model.score( X_test[:, 0:57], Y_test ), \\\n",
    "      \", F1-score = \", sklearn.metrics.f1_score(Y_test, model.predict( X_test[:, 0:57], ), average='binary'), \\\n",
    "      \", ROC-AUC = \", sklearn.metrics.roc_auc_score(Y_test, model.predict_proba( X_test[:, 0:57] )[:, 1]))\n",
    "roc = getROCcurve( model, X_test[:, 0:57], Y_test, 'EVmutation (exclude BRCA1 & PTEN)', 'PTEN activity DMS', 'AA + Cons + MutSig', 'all variants')\n",
    "roc.to_csv('roc_curves_all.csv', header=True, index=False, mode = 'a')\n",
    "\n",
    "with open('setup/AA_MutSig_QSASA/GBM-excludeBRCA1-PTEN.pickle', 'rb' ) as r:\n",
    "    model = pickle.load( r )\n",
    "print('AA_MutSig_QSASA      :: Accuracy = ', model.score( X_test[:, [i for i in range(54)] + [57]], Y_test ), \\\n",
    "      \", F1-score = \", sklearn.metrics.f1_score(Y_test, model.predict( X_test[:, [i for i in range(54)] + [57]] ), average='binary'), \\\n",
    "      \", ROC-AUC = \", sklearn.metrics.roc_auc_score(Y_test, model.predict_proba( X_test[:, [i for i in range(54)] + [57]] )[:, 1]))\n",
    "roc = getROCcurve( model, X_test[:, [i for i in range(54)] + [57]], Y_test, 'EVmutation (exclude BRCA1 & PTEN)', 'PTEN activity DMS', 'AA + MutSig + Q(SASA)', 'all variants')\n",
    "roc.to_csv('roc_curves_all.csv', header=True, index=False, mode = 'a')\n",
    "\n",
    "with open('setup/AA_MutSig/GBM-excludeBRCA1-PTEN.pickle', 'rb' ) as r:\n",
    "    model = pickle.load( r )\n",
    "print('AA_MutSig            :: Accuracy = ', model.score( X_test[:, 0:54], Y_test ), \\\n",
    "      \", F1-score = \", sklearn.metrics.f1_score(Y_test, model.predict( X_test[:, 0:54] ), average='binary'), \\\n",
    "      \", ROC-AUC = \", sklearn.metrics.roc_auc_score(Y_test, model.predict_proba( X_test[:, 0:54] )[:, 1]))\n",
    "roc = getROCcurve( model, X_test[:, 0:54], Y_test, 'EVmutation (exclude BRCA1 & PTEN)', 'PTEN activity DMS', 'AA + MutSig', 'all variants')\n",
    "roc.to_csv('roc_curves_all.csv', header=True, index=False, mode = 'a')\n",
    "\n",
    "with open('setup/AA/GBM-excludeBRCA1-PTEN.pickle', 'rb' ) as r:\n",
    "    model = pickle.load( r )\n",
    "print('AA only              :: Accuracy = ', model.score( X_test[:, 0:40], Y_test ), \\\n",
    "      \", F1-score = \", sklearn.metrics.f1_score(Y_test, model.predict( X_test[:, 0:40] ), average='binary'), \\\n",
    "      \", ROC-AUC = \", sklearn.metrics.roc_auc_score(Y_test, model.predict_proba( X_test[:, 0:40] )[:, 1]))\n",
    "roc = getROCcurve( model, X_test[:, 0:40], Y_test, 'EVmutation (exclude BRCA1 & PTEN)', 'PTEN activity DMS', 'AA only', 'all variants')\n",
    "roc.to_csv('roc_curves_all.csv', header=True, index=False, mode = 'a')\n",
    "\n",
    "with open('setup/MutSig/GBM-excludeBRCA1-PTEN.pickle', 'rb' ) as r:\n",
    "    model = pickle.load( r )\n",
    "print('MutSig only          :: Accuracy = ', model.score( X_test[:, 41:54], Y_test ), \\\n",
    "      \", F1-score = \", sklearn.metrics.f1_score(Y_test, model.predict( X_test[:, 41:54] ), average='binary'), \\\n",
    "      \", ROC-AUC = \", sklearn.metrics.roc_auc_score(Y_test, model.predict_proba( X_test[:, 41:54] )[:, 1]))\n",
    "roc = getROCcurve( model, X_test[:, 41:54], Y_test, 'EVmutation (exclude BRCA1 & PTEN)', 'PTEN activity DMS', 'MutSig only', 'all variants')\n",
    "roc.to_csv('roc_curves_all.csv', header=True, index=False, mode = 'a')\n",
    "\n",
    "#________________________________\n",
    "# no-core predictors\n",
    "print(\"\\n\\n'no-core' predictors:\\n\")\n",
    "with open('setup/AA_Cons_MutSig_QSASA/GBM-excludeBRCA1-PTEN_no-core.pickle', 'rb' ) as r:\n",
    "    model = pickle.load( r )\n",
    "print('AA_Cons_MutSig_QSASA :: Accuracy = ', model.score( X_test, Y_test ), \\\n",
    "      \", F1-score = \", sklearn.metrics.f1_score(Y_test, model.predict( X_test ), average='binary'), \\\n",
    "      \", ROC-AUC = \", sklearn.metrics.roc_auc_score(Y_test, model.predict_proba( X_test )[:, 1]))\n",
    "roc = getROCcurve( model, X_test, Y_test, 'EVmutation (exclude BRCA1 & PTEN)', 'PTEN activity DMS', 'AA + Cons + MutSig + Q(SASA)', 'no-core')\n",
    "roc.to_csv('roc_curves_all.csv', header=True, index=False, mode = 'a')\n",
    "\n",
    "with open('setup/AA_Cons_MutSig/GBM-excludeBRCA1-PTEN_no-core.pickle', 'rb' ) as r:\n",
    "    model = pickle.load( r )\n",
    "print('AA_Cons_MutSig       :: Accuracy = ', model.score( X_test[:, 0:57], Y_test ), \\\n",
    "      \", F1-score = \", sklearn.metrics.f1_score(Y_test, model.predict( X_test[:, 0:57], ), average='binary'), \\\n",
    "      \", ROC-AUC = \", sklearn.metrics.roc_auc_score(Y_test, model.predict_proba( X_test[:, 0:57] )[:, 1]))\n",
    "roc = getROCcurve( model, X_test[:, 0:57], Y_test, 'EVmutation (exclude BRCA1 & PTEN)', 'PTEN activity DMS', 'AA + Cons + MutSig', 'no-core')\n",
    "roc.to_csv('roc_curves_all.csv', header=True, index=False, mode = 'a')\n",
    "\n",
    "with open('setup/AA_MutSig_QSASA/GBM-excludeBRCA1-PTEN_no-core.pickle', 'rb' ) as r:\n",
    "    model = pickle.load( r )\n",
    "print('AA_MutSig_QSASA      :: Accuracy = ', model.score( X_test[:, [i for i in range(54)] + [57]], Y_test ), \\\n",
    "      \", F1-score = \", sklearn.metrics.f1_score(Y_test, model.predict( X_test[:, [i for i in range(54)] + [57]] ), average='binary'), \\\n",
    "      \", ROC-AUC = \", sklearn.metrics.roc_auc_score(Y_test, model.predict_proba( X_test[:, [i for i in range(54)] + [57]] )[:, 1]))\n",
    "roc = getROCcurve( model, X_test[:, [i for i in range(54)] + [57]], Y_test, 'EVmutation', 'PTEN activity DMS', 'AA + MutSig + Q(SASA)', 'no-core')\n",
    "roc.to_csv('roc_curves_all.csv', header=True, index=False, mode = 'a')\n",
    "\n",
    "with open('setup/AA_MutSig/GBM-excludeBRCA1-PTEN_no-core.pickle', 'rb' ) as r:\n",
    "    model = pickle.load( r )\n",
    "print('AA_MutSig            :: Accuracy = ', model.score( X_test[:, 0:54], Y_test ), \\\n",
    "      \", F1-score = \", sklearn.metrics.f1_score(Y_test, model.predict( X_test[:, 0:54] ), average='binary'), \\\n",
    "      \", ROC-AUC = \", sklearn.metrics.roc_auc_score(Y_test, model.predict_proba( X_test[:, 0:54] )[:, 1]))\n",
    "roc = getROCcurve( model, X_test[:, 0:54], Y_test, 'EVmutation (exclude BRCA1 & PTEN)', 'PTEN activity DMS', 'AA + MutSig', 'no-core')\n",
    "roc.to_csv('roc_curves_all.csv', header=True, index=False, mode = 'a')\n",
    "\n",
    "with open('setup/AA/GBM-excludeBRCA1-PTEN_no-core.pickle', 'rb' ) as r:\n",
    "    model = pickle.load( r )\n",
    "print('AA only              :: Accuracy = ', model.score( X_test[:, 0:40], Y_test ), \\\n",
    "      \", F1-score = \", sklearn.metrics.f1_score(Y_test, model.predict( X_test[:, 0:40] ), average='binary'), \\\n",
    "      \", ROC-AUC = \", sklearn.metrics.roc_auc_score(Y_test, model.predict_proba( X_test[:, 0:40] )[:, 1]))\n",
    "roc = getROCcurve( model, X_test[:, 0:40], Y_test, 'EVmutation (exclude BRCA1 & PTEN)', 'PTEN activity DMS', 'AA only', 'no-core')\n",
    "roc.to_csv('roc_curves_all.csv', header=True, index=False, mode = 'a')\n",
    "\n",
    "with open('setup/MutSig/GBM-excludeBRCA1-PTEN_no-core.pickle', 'rb' ) as r:\n",
    "    model = pickle.load( r )\n",
    "print('MutSig only          :: Accuracy = ', model.score( X_test[:, 41:54], Y_test ), \\\n",
    "      \", F1-score = \", sklearn.metrics.f1_score(Y_test, model.predict( X_test[:, 41:54] ), average='binary'), \\\n",
    "      \", ROC-AUC = \", sklearn.metrics.roc_auc_score(Y_test, model.predict_proba( X_test[:, 41:54] )[:, 1]))\n",
    "roc = getROCcurve( model, X_test[:, 41:54], Y_test, 'EVmutation (exclude BRCA1 & PTEN)', 'PTEN activity DMS', 'MutSig only', 'no-core')\n",
    "roc.to_csv('roc_curves_all.csv', header=True, index=False, mode = 'a')\n",
    "\n"
   ]
  },
  {
   "cell_type": "markdown",
   "metadata": {},
   "source": [
    "# Feature importance\n",
    "\n",
    "Use the [SHAP (SHapley Additive exPlanations)](https://github.com/slundberg/shap) library."
   ]
  },
  {
   "cell_type": "code",
   "execution_count": 36,
   "metadata": {},
   "outputs": [],
   "source": [
    "# function to perform SHAP analysis and output the explanatory matrix\n",
    "\n",
    "def doSHAP(model_file, data_file, out_file, column_selection, feature_names):\n",
    "    \"\"\"\n",
    "    automatic routine to put through data through model and output SHAP explanatory matrix\n",
    "    arg:\n",
    "      model_file: filepath to sklearn model pickle\n",
    "      data_file: filepath to dataset (X, Y) pickle\n",
    "      out_file: filepath to output CSV where the SHAP matrix will be written out\n",
    "      column_selection: list of column indices to be included in the feature matrix X for interpretation\n",
    "      feature_names: list of feature names. Use as column names of the output matrix\n",
    "    \"\"\"\n",
    "    with open(model_file, 'rb' ) as r:\n",
    "        model = pickle.load( r )\n",
    "    with open(data_file, 'rb') as r:\n",
    "        X, Y = pickle.load(r)\n",
    "    X = X[:, column_selection]    \n",
    "    explainer = shap.Explainer(model)\n",
    "    shap_values = explainer(X)\n",
    "    out = pd.DataFrame(shap_values.values, columns = [feature_names[i] for i in column_selection])\n",
    "    out.to_csv(out_file, index=False)\n",
    "    return None"
   ]
  },
  {
   "cell_type": "code",
   "execution_count": 37,
   "metadata": {},
   "outputs": [],
   "source": [
    "# feature names\n",
    "feature_cols = []\n",
    "AAs = list('ACDEFGHIKLMNPQRSTVWY')\n",
    "feature_cols +=  ['WT_AA_' + aa for aa in AAs]\n",
    "feature_cols +=  ['MUT_AA_' + aa for aa in AAs]\n",
    "bs = list('AGCT')\n",
    "feature_cols +=  ['MutSig_-1_' + b for b in bs]\n",
    "feature_cols +=  ['MutSig_+1_' + b for b in bs]\n",
    "subs = ['C>A', 'C>G', 'C>T', 'T>A', 'T>C', 'T>G']\n",
    "feature_cols +=  ['MutSig_' + m for m in subs] \n",
    "feature_cols += ['PhyloP_0', 'PhyloP_-1', 'PhyloP_1', 'Q(SASA)']\n"
   ]
  },
  {
   "cell_type": "code",
   "execution_count": 38,
   "metadata": {},
   "outputs": [],
   "source": [
    "# explain the model's predictions using SHAP\n",
    "doSHAP(model_file = 'setup/AA_Cons_MutSig_QSASA/GBM.pickle', data_file = 'data/EVmutation_test_set.pickle', \\\n",
    "       out_file = \"GBM-AA_Cons_MutSig_QSASA_test-set_shap-values.csv\", feature_names = feature_cols, \\\n",
    "       column_selection = [i for i in range(58)])\n",
    "doSHAP(model_file = 'setup/AA_MutSig_QSASA/GBM.pickle', data_file = 'data/EVmutation_test_set.pickle', \\\n",
    "       out_file = \"GBM-AA_MutSig_QSASA_test-set_shap-values.csv\", feature_names = feature_cols, \\\n",
    "       column_selection = [i for i in range(54)] + [57])\n",
    "doSHAP(model_file = 'setup/AA_Cons_MutSig/GBM.pickle', data_file = 'data/EVmutation_test_set.pickle', \\\n",
    "       out_file = \"GBM-AA_Cons_MutSig_test-set_shap-values.csv\", feature_names = feature_cols, \\\n",
    "       column_selection = [i for i in range(57)])\n",
    "doSHAP(model_file = 'setup/AA_MutSig/GBM.pickle', data_file = 'data/EVmutation_test_set.pickle', \\\n",
    "       out_file = \"GBM-AA_MutSig_test-set_shap-values.csv\", feature_names = feature_cols, \\\n",
    "       column_selection = [i for i in range(54)])\n",
    "doSHAP(model_file = 'setup/AA/GBM.pickle', data_file = 'data/EVmutation_test_set.pickle', \\\n",
    "       out_file = \"GBM-AA_test-set_shap-values.csv\", feature_names = feature_cols, \\\n",
    "       column_selection = [i for i in range(40)])\n",
    "doSHAP(model_file = 'setup/MutSig/GBM.pickle', data_file = 'data/EVmutation_test_set.pickle', \\\n",
    "       out_file = \"GBM-MutSig_test-set_shap-values.csv\", feature_names = feature_cols, \\\n",
    "       column_selection = [i for i in range(40, 54)])"
   ]
  }
 ],
 "metadata": {
  "kernelspec": {
   "display_name": "Python 3 (ipykernel)",
   "language": "python",
   "name": "python3"
  },
  "language_info": {
   "codemirror_mode": {
    "name": "ipython",
    "version": 3
   },
   "file_extension": ".py",
   "mimetype": "text/x-python",
   "name": "python",
   "nbconvert_exporter": "python",
   "pygments_lexer": "ipython3",
   "version": "3.8.10"
  }
 },
 "nbformat": 4,
 "nbformat_minor": 5
}
